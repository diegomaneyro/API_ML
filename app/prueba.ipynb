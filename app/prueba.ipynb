{
 "cells": [
  {
   "cell_type": "code",
   "execution_count": 2,
   "metadata": {},
   "outputs": [],
   "source": [
    "import pandas as pd"
   ]
  },
  {
   "cell_type": "code",
   "execution_count": 4,
   "metadata": {},
   "outputs": [
    {
     "name": "stdout",
     "output_type": "stream",
     "text": [
      "    id     type                  title         director  \\\n",
      "0  ns1    movie   dick johnson is dead  kirsten johnson   \n",
      "1  ns2  tv show          blood & water          SinDato   \n",
      "2  ns3  tv show              ganglands  julien leclercq   \n",
      "3  ns4  tv show  jailbirds new orleans          SinDato   \n",
      "4  ns5  tv show           kota factory          SinDato   \n",
      "\n",
      "                                                cast        country  \\\n",
      "0                                            SinDato  united states   \n",
      "1  ama qamata, khosi ngema, gail mabalane, thaban...   south africa   \n",
      "2  sami bouajila, tracy gotoas, samuel jouy, nabi...        SinDato   \n",
      "3                                            SinDato        SinDato   \n",
      "4  mayur more, jitendra kumar, ranjan raj, alam k...          india   \n",
      "\n",
      "   date_added  release_year rating duration_type  duration_int     score  \n",
      "0  2021-09-25          2020  pg-13           min            90  3.611111  \n",
      "1  2021-09-24          2021  tv-ma        season             2  3.552632  \n",
      "2  2021-09-24          2021  tv-ma        season             1  3.597938  \n",
      "3  2021-09-24          2021  tv-ma        season             1  3.561616  \n",
      "4  2021-09-24          2021  tv-ma        season             2  3.593023  \n"
     ]
    }
   ],
   "source": [
    "df = pd.read_csv('../data/peliculas_final.csv')\n",
    "print(df.head())"
   ]
  },
  {
   "cell_type": "code",
   "execution_count": 17,
   "metadata": {},
   "outputs": [
    {
     "data": {
      "text/plain": [
       "{'Message': 'Conexión Exitosa'}"
      ]
     },
     "execution_count": 17,
     "metadata": {},
     "output_type": "execute_result"
    }
   ],
   "source": [
    "from fastapi import HTTPException\n",
    "url = '../data/peliculas_final.csv'\n",
    "def verify_connection():\n",
    "    try:\n",
    "        # Leer los datos del archivo CSV\n",
    "        datos = pd.read_csv(url, sep=',', encoding='latin-1')\n",
    "        return {\"Message\": \"Conexión Exitosa\"}        \n",
    "    except FileNotFoundError:\n",
    "        raise HTTPException(status_code=404, detail=\"No se encontro el archivo\")\n",
    "    except pd.errors.EmptyDataError:\n",
    "        raise HTTPException(status_code=400, detail=\"Archivo csv vacio\")\n",
    "    except pd.errors.ParserError:\n",
    "        raise HTTPException(status_code=400, detail=\"Error al analizar el archivo csv\")\n",
    "    except Exception as e:\n",
    "        raise HTTPException(status_code=500, detail=f\"Error en la conexion a los datos: {str(e)}\")    \n",
    "verify_connection()"
   ]
  }
 ],
 "metadata": {
  "kernelspec": {
   "display_name": "venv_api_stream",
   "language": "python",
   "name": "python3"
  },
  "language_info": {
   "codemirror_mode": {
    "name": "ipython",
    "version": 3
   },
   "file_extension": ".py",
   "mimetype": "text/x-python",
   "name": "python",
   "nbconvert_exporter": "python",
   "pygments_lexer": "ipython3",
   "version": "3.13.0"
  }
 },
 "nbformat": 4,
 "nbformat_minor": 2
}
