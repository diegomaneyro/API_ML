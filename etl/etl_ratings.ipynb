{
 "cells": [
  {
   "attachments": {},
   "cell_type": "markdown",
   "metadata": {},
   "source": [
    "$$\n",
    "EtlRatings\n",
    "$$"
   ]
  },
  {
   "attachments": {},
   "cell_type": "markdown",
   "metadata": {},
   "source": [
    "Transformacion de los archivos"
   ]
  },
  {
   "cell_type": "code",
   "execution_count": 2,
   "metadata": {},
   "outputs": [],
   "source": [
    "# importar librerias\n",
    "import pandas as pd\n",
    "from datetime import datetime as dt\n",
    "import numpy as np"
   ]
  },
  {
   "attachments": {},
   "cell_type": "markdown",
   "metadata": {},
   "source": [
    "funcion que carga un dataFrame desde csv"
   ]
  },
  {
   "cell_type": "code",
   "execution_count": 5,
   "metadata": {},
   "outputs": [],
   "source": [
    "def importar_csv(ruta, nombre):\n",
    "    df = pd.read_csv(ruta + nombre)\n",
    "    return df"
   ]
  },
  {
   "attachments": {},
   "cell_type": "markdown",
   "metadata": {},
   "source": [
    "llamar a la funcion para cada archivo de ratings"
   ]
  },
  {
   "cell_type": "code",
   "execution_count": 7,
   "metadata": {},
   "outputs": [],
   "source": [
    "ruta = '../csvs/ratings/'\n",
    "df_1 = importar_csv(ruta, '1.csv')\n",
    "df_2 = importar_csv(ruta, '2.csv')\n",
    "df_3 = importar_csv(ruta, '3.csv')\n",
    "df_4 = importar_csv(ruta, '4.csv')\n",
    "df_5 = importar_csv(ruta, '5.csv')\n",
    "df_6 = importar_csv(ruta, '6.csv')\n",
    "df_7 = importar_csv(ruta, '7.csv')\n",
    "df_8 = importar_csv(ruta, '8.csv')\n"
   ]
  },
  {
   "attachments": {},
   "cell_type": "markdown",
   "metadata": {},
   "source": [
    "Renombrar la columna rating por score en cada tabla"
   ]
  },
  {
   "cell_type": "code",
   "execution_count": 8,
   "metadata": {},
   "outputs": [],
   "source": [
    "df_1 = df_1.rename(columns={'rating':'score'})\n",
    "df_2 = df_2.rename(columns={'rating':'score'})\n",
    "df_3 = df_3.rename(columns={'rating':'score'})\n",
    "df_4 = df_4.rename(columns={'rating':'score'})\n",
    "df_5 = df_5.rename(columns={'rating':'score'})\n",
    "df_6 = df_6.rename(columns={'rating':'score'})\n",
    "df_7 = df_7.rename(columns={'rating':'score'})\n",
    "df_8 = df_8.rename(columns={'rating':'score'})"
   ]
  },
  {
   "cell_type": "code",
   "execution_count": 9,
   "metadata": {},
   "outputs": [
    {
     "name": "stdout",
     "output_type": "stream",
     "text": [
      "int64\n"
     ]
    }
   ],
   "source": [
    "# Verifico el tipo de dato del campo timestamp\n",
    "print((df_1['timestamp'].dtypes))"
   ]
  },
  {
   "attachments": {},
   "cell_type": "markdown",
   "metadata": {},
   "source": [
    "Cambio el tipo de dato a fecha de la columna timestamp"
   ]
  },
  {
   "cell_type": "code",
   "execution_count": 10,
   "metadata": {},
   "outputs": [],
   "source": [
    "# Cambiar el formato del campo \"timestamp\" a StrfTime\n",
    "df_1['timestamp'] = pd.to_datetime(df_1['timestamp'], unit='s').dt.strftime('%Y-%m-%d')\n",
    "df_2['timestamp'] = pd.to_datetime(df_2['timestamp'], unit='s').dt.strftime('%Y-%m-%d')\n",
    "df_3['timestamp'] = pd.to_datetime(df_3['timestamp'], unit='s').dt.strftime('%Y-%m-%d')\n",
    "df_4['timestamp'] = pd.to_datetime(df_4['timestamp'], unit='s').dt.strftime('%Y-%m-%d')\n",
    "df_5['timestamp'] = pd.to_datetime(df_5['timestamp'], unit='s').dt.strftime('%Y-%m-%d')\n",
    "df_6['timestamp'] = pd.to_datetime(df_6['timestamp'], unit='s').dt.strftime('%Y-%m-%d')\n",
    "df_7['timestamp'] = pd.to_datetime(df_7['timestamp'], unit='s').dt.strftime('%Y-%m-%d')\n",
    "df_8['timestamp'] = pd.to_datetime(df_8['timestamp'], unit='s').dt.strftime('%Y-%m-%d')"
   ]
  },
  {
   "cell_type": "code",
   "execution_count": 11,
   "metadata": {},
   "outputs": [
    {
     "name": "stdout",
     "output_type": "stream",
     "text": [
      "object\n"
     ]
    }
   ],
   "source": [
    "print(df_1['timestamp'].dtypes)"
   ]
  },
  {
   "cell_type": "code",
   "execution_count": 12,
   "metadata": {},
   "outputs": [],
   "source": [
    "# Cambio de formato del campo timestamp a DateTime\n",
    "df_1['timestamp'] = pd.to_datetime(df_1['timestamp'])\n",
    "df_2['timestamp'] = pd.to_datetime(df_2['timestamp'])\n",
    "df_3['timestamp'] = pd.to_datetime(df_3['timestamp'])\n",
    "df_4['timestamp'] = pd.to_datetime(df_4['timestamp'])\n",
    "df_5['timestamp'] = pd.to_datetime(df_5['timestamp'])\n",
    "df_6['timestamp'] = pd.to_datetime(df_6['timestamp'])\n",
    "df_7['timestamp'] = pd.to_datetime(df_7['timestamp'])\n",
    "df_8['timestamp'] = pd.to_datetime(df_8['timestamp'])"
   ]
  },
  {
   "cell_type": "code",
   "execution_count": 13,
   "metadata": {},
   "outputs": [
    {
     "data": {
      "text/html": [
       "<div>\n",
       "<style scoped>\n",
       "    .dataframe tbody tr th:only-of-type {\n",
       "        vertical-align: middle;\n",
       "    }\n",
       "\n",
       "    .dataframe tbody tr th {\n",
       "        vertical-align: top;\n",
       "    }\n",
       "\n",
       "    .dataframe thead th {\n",
       "        text-align: right;\n",
       "    }\n",
       "</style>\n",
       "<table border=\"1\" class=\"dataframe\">\n",
       "  <thead>\n",
       "    <tr style=\"text-align: right;\">\n",
       "      <th></th>\n",
       "      <th>userId</th>\n",
       "      <th>score</th>\n",
       "      <th>timestamp</th>\n",
       "      <th>movieId</th>\n",
       "    </tr>\n",
       "  </thead>\n",
       "  <tbody>\n",
       "    <tr>\n",
       "      <th>0</th>\n",
       "      <td>1</td>\n",
       "      <td>1.0</td>\n",
       "      <td>2015-03-09</td>\n",
       "      <td>as680</td>\n",
       "    </tr>\n",
       "    <tr>\n",
       "      <th>1</th>\n",
       "      <td>1</td>\n",
       "      <td>4.5</td>\n",
       "      <td>2015-03-09</td>\n",
       "      <td>ns2186</td>\n",
       "    </tr>\n",
       "    <tr>\n",
       "      <th>2</th>\n",
       "      <td>1</td>\n",
       "      <td>5.0</td>\n",
       "      <td>2015-03-09</td>\n",
       "      <td>hs2381</td>\n",
       "    </tr>\n",
       "    <tr>\n",
       "      <th>3</th>\n",
       "      <td>1</td>\n",
       "      <td>5.0</td>\n",
       "      <td>2015-03-09</td>\n",
       "      <td>ns3663</td>\n",
       "    </tr>\n",
       "    <tr>\n",
       "      <th>4</th>\n",
       "      <td>1</td>\n",
       "      <td>5.0</td>\n",
       "      <td>2015-03-09</td>\n",
       "      <td>as9500</td>\n",
       "    </tr>\n",
       "    <tr>\n",
       "      <th>...</th>\n",
       "      <td>...</td>\n",
       "      <td>...</td>\n",
       "      <td>...</td>\n",
       "      <td>...</td>\n",
       "    </tr>\n",
       "    <tr>\n",
       "      <th>1499995</th>\n",
       "      <td>15424</td>\n",
       "      <td>4.0</td>\n",
       "      <td>2013-06-02</td>\n",
       "      <td>as8698</td>\n",
       "    </tr>\n",
       "    <tr>\n",
       "      <th>1499996</th>\n",
       "      <td>15424</td>\n",
       "      <td>3.5</td>\n",
       "      <td>2013-05-26</td>\n",
       "      <td>as3663</td>\n",
       "    </tr>\n",
       "    <tr>\n",
       "      <th>1499997</th>\n",
       "      <td>15424</td>\n",
       "      <td>3.0</td>\n",
       "      <td>2013-06-29</td>\n",
       "      <td>as1325</td>\n",
       "    </tr>\n",
       "    <tr>\n",
       "      <th>1499998</th>\n",
       "      <td>15424</td>\n",
       "      <td>3.5</td>\n",
       "      <td>2013-06-29</td>\n",
       "      <td>ns4446</td>\n",
       "    </tr>\n",
       "    <tr>\n",
       "      <th>1499999</th>\n",
       "      <td>15424</td>\n",
       "      <td>3.5</td>\n",
       "      <td>2013-05-26</td>\n",
       "      <td>hs2569</td>\n",
       "    </tr>\n",
       "  </tbody>\n",
       "</table>\n",
       "<p>1500000 rows × 4 columns</p>\n",
       "</div>"
      ],
      "text/plain": [
       "         userId  score  timestamp movieId\n",
       "0             1    1.0 2015-03-09   as680\n",
       "1             1    4.5 2015-03-09  ns2186\n",
       "2             1    5.0 2015-03-09  hs2381\n",
       "3             1    5.0 2015-03-09  ns3663\n",
       "4             1    5.0 2015-03-09  as9500\n",
       "...         ...    ...        ...     ...\n",
       "1499995   15424    4.0 2013-06-02  as8698\n",
       "1499996   15424    3.5 2013-05-26  as3663\n",
       "1499997   15424    3.0 2013-06-29  as1325\n",
       "1499998   15424    3.5 2013-06-29  ns4446\n",
       "1499999   15424    3.5 2013-05-26  hs2569\n",
       "\n",
       "[1500000 rows x 4 columns]"
      ]
     },
     "execution_count": 13,
     "metadata": {},
     "output_type": "execute_result"
    }
   ],
   "source": [
    "df_1"
   ]
  },
  {
   "attachments": {},
   "cell_type": "markdown",
   "metadata": {},
   "source": [
    "$\n",
    "ConcatenarData\n",
    "$"
   ]
  },
  {
   "cell_type": "code",
   "execution_count": 20,
   "metadata": {},
   "outputs": [],
   "source": [
    "df_ratings_completo = pd.concat([df_1, df_2, df_3, df_4, df_5, df_6, df_7, df_8])"
   ]
  },
  {
   "cell_type": "code",
   "execution_count": 21,
   "metadata": {},
   "outputs": [
    {
     "data": {
      "text/html": [
       "<div>\n",
       "<style scoped>\n",
       "    .dataframe tbody tr th:only-of-type {\n",
       "        vertical-align: middle;\n",
       "    }\n",
       "\n",
       "    .dataframe tbody tr th {\n",
       "        vertical-align: top;\n",
       "    }\n",
       "\n",
       "    .dataframe thead th {\n",
       "        text-align: right;\n",
       "    }\n",
       "</style>\n",
       "<table border=\"1\" class=\"dataframe\">\n",
       "  <thead>\n",
       "    <tr style=\"text-align: right;\">\n",
       "      <th></th>\n",
       "      <th>userId</th>\n",
       "      <th>score</th>\n",
       "      <th>timestamp</th>\n",
       "      <th>movieId</th>\n",
       "    </tr>\n",
       "  </thead>\n",
       "  <tbody>\n",
       "    <tr>\n",
       "      <th>0</th>\n",
       "      <td>1</td>\n",
       "      <td>1.0</td>\n",
       "      <td>2015-03-09</td>\n",
       "      <td>as680</td>\n",
       "    </tr>\n",
       "    <tr>\n",
       "      <th>1</th>\n",
       "      <td>1</td>\n",
       "      <td>4.5</td>\n",
       "      <td>2015-03-09</td>\n",
       "      <td>ns2186</td>\n",
       "    </tr>\n",
       "    <tr>\n",
       "      <th>2</th>\n",
       "      <td>1</td>\n",
       "      <td>5.0</td>\n",
       "      <td>2015-03-09</td>\n",
       "      <td>hs2381</td>\n",
       "    </tr>\n",
       "    <tr>\n",
       "      <th>3</th>\n",
       "      <td>1</td>\n",
       "      <td>5.0</td>\n",
       "      <td>2015-03-09</td>\n",
       "      <td>ns3663</td>\n",
       "    </tr>\n",
       "    <tr>\n",
       "      <th>4</th>\n",
       "      <td>1</td>\n",
       "      <td>5.0</td>\n",
       "      <td>2015-03-09</td>\n",
       "      <td>as9500</td>\n",
       "    </tr>\n",
       "    <tr>\n",
       "      <th>...</th>\n",
       "      <td>...</td>\n",
       "      <td>...</td>\n",
       "      <td>...</td>\n",
       "      <td>...</td>\n",
       "    </tr>\n",
       "    <tr>\n",
       "      <th>1499995</th>\n",
       "      <td>124380</td>\n",
       "      <td>4.5</td>\n",
       "      <td>2007-12-04</td>\n",
       "      <td>ns5272</td>\n",
       "    </tr>\n",
       "    <tr>\n",
       "      <th>1499996</th>\n",
       "      <td>124380</td>\n",
       "      <td>2.5</td>\n",
       "      <td>2007-12-04</td>\n",
       "      <td>ns5492</td>\n",
       "    </tr>\n",
       "    <tr>\n",
       "      <th>1499997</th>\n",
       "      <td>124380</td>\n",
       "      <td>3.5</td>\n",
       "      <td>2007-12-04</td>\n",
       "      <td>hs305</td>\n",
       "    </tr>\n",
       "    <tr>\n",
       "      <th>1499998</th>\n",
       "      <td>124380</td>\n",
       "      <td>4.5</td>\n",
       "      <td>2007-12-04</td>\n",
       "      <td>ns7881</td>\n",
       "    </tr>\n",
       "    <tr>\n",
       "      <th>1499999</th>\n",
       "      <td>124380</td>\n",
       "      <td>1.5</td>\n",
       "      <td>2007-12-04</td>\n",
       "      <td>as883</td>\n",
       "    </tr>\n",
       "  </tbody>\n",
       "</table>\n",
       "<p>11024289 rows × 4 columns</p>\n",
       "</div>"
      ],
      "text/plain": [
       "         userId  score  timestamp movieId\n",
       "0             1    1.0 2015-03-09   as680\n",
       "1             1    4.5 2015-03-09  ns2186\n",
       "2             1    5.0 2015-03-09  hs2381\n",
       "3             1    5.0 2015-03-09  ns3663\n",
       "4             1    5.0 2015-03-09  as9500\n",
       "...         ...    ...        ...     ...\n",
       "1499995  124380    4.5 2007-12-04  ns5272\n",
       "1499996  124380    2.5 2007-12-04  ns5492\n",
       "1499997  124380    3.5 2007-12-04   hs305\n",
       "1499998  124380    4.5 2007-12-04  ns7881\n",
       "1499999  124380    1.5 2007-12-04   as883\n",
       "\n",
       "[11024289 rows x 4 columns]"
      ]
     },
     "execution_count": 21,
     "metadata": {},
     "output_type": "execute_result"
    }
   ],
   "source": [
    "df_ratings_completo"
   ]
  },
  {
   "cell_type": "code",
   "execution_count": 23,
   "metadata": {},
   "outputs": [],
   "source": [
    "# Exportar a csv\n",
    "df_ratings_completo.to_csv(ruta+\"ratings_final.csv\", index=False)"
   ]
  }
 ],
 "metadata": {
  "kernelspec": {
   "display_name": "Python 3",
   "language": "python",
   "name": "python3"
  },
  "language_info": {
   "codemirror_mode": {
    "name": "ipython",
    "version": 3
   },
   "file_extension": ".py",
   "mimetype": "text/x-python",
   "name": "python",
   "nbconvert_exporter": "python",
   "pygments_lexer": "ipython3",
   "version": "3.11.2"
  },
  "orig_nbformat": 4,
  "vscode": {
   "interpreter": {
    "hash": "5dc8b4e25d3d97065a02c3338f3242e8235f54a2cf78964a2ea20743c210654d"
   }
  }
 },
 "nbformat": 4,
 "nbformat_minor": 2
}
