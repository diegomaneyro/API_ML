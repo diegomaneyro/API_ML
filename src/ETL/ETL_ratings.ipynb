{
 "cells": [
  {
   "attachments": {},
   "cell_type": "markdown",
   "metadata": {},
   "source": [
    "Transformacion de los archivos"
   ]
  },
  {
   "cell_type": "code",
   "execution_count": 1,
   "metadata": {},
   "outputs": [],
   "source": [
    "# importar librerias\n",
    "import pandas as pd\n",
    "from datetime import datetime as dt\n",
    "import numpy as np"
   ]
  },
  {
   "cell_type": "code",
   "execution_count": 2,
   "metadata": {},
   "outputs": [],
   "source": [
    "# Cargar de los DataSets en DataFrame\n",
    "df_1 = pd.read_csv(\"ratings/1.csv\") \n",
    "df_2 = pd.read_csv(\"ratings/2.csv\") \n",
    "df_3 = pd.read_csv(\"ratings/3.csv\") \n",
    "df_4 = pd.read_csv(\"ratings/4.csv\") \n",
    "df_5 = pd.read_csv(\"ratings/5.csv\") \n",
    "df_6 = pd.read_csv(\"ratings/6.csv\")\n",
    "df_7 = pd.read_csv(\"ratings/7.csv\") \n",
    "df_8 = pd.read_csv(\"ratings/8.csv\")  "
   ]
  },
  {
   "attachments": {},
   "cell_type": "markdown",
   "metadata": {},
   "source": [
    "Renombrar la columna rating por score en cada tabla"
   ]
  },
  {
   "cell_type": "code",
   "execution_count": 3,
   "metadata": {},
   "outputs": [],
   "source": [
    "df_1 = df_1.rename(columns={'rating':'score'})\n",
    "df_2 = df_2.rename(columns={'rating':'score'})\n",
    "df_3 = df_3.rename(columns={'rating':'score'})\n",
    "df_4 = df_4.rename(columns={'rating':'score'})\n",
    "df_5 = df_5.rename(columns={'rating':'score'})\n",
    "df_6 = df_6.rename(columns={'rating':'score'})\n",
    "df_7 = df_7.rename(columns={'rating':'score'})\n",
    "df_8 = df_8.rename(columns={'rating':'score'})"
   ]
  },
  {
   "cell_type": "code",
   "execution_count": 4,
   "metadata": {},
   "outputs": [
    {
     "name": "stdout",
     "output_type": "stream",
     "text": [
      "int64\n"
     ]
    }
   ],
   "source": [
    "# Verifico el tipo de dato del campo timestamp\n",
    "print((df_1['timestamp'].dtypes))"
   ]
  },
  {
   "attachments": {},
   "cell_type": "markdown",
   "metadata": {},
   "source": [
    "Cambio de el tipo de dato a fecha de la columna timestamp"
   ]
  },
  {
   "cell_type": "code",
   "execution_count": 5,
   "metadata": {},
   "outputs": [],
   "source": [
    "# Cambiar el formato del campo \"timestamp\" a StrfTime\n",
    "df_1['timestamp'] = pd.to_datetime(df_1['timestamp'], unit='s').dt.strftime('%Y-%m-%d')\n",
    "df_2['timestamp'] = pd.to_datetime(df_2['timestamp'], unit='s').dt.strftime('%Y-%m-%d')\n",
    "df_3['timestamp'] = pd.to_datetime(df_3['timestamp'], unit='s').dt.strftime('%Y-%m-%d')\n",
    "df_4['timestamp'] = pd.to_datetime(df_4['timestamp'], unit='s').dt.strftime('%Y-%m-%d')\n",
    "df_5['timestamp'] = pd.to_datetime(df_5['timestamp'], unit='s').dt.strftime('%Y-%m-%d')\n",
    "df_6['timestamp'] = pd.to_datetime(df_6['timestamp'], unit='s').dt.strftime('%Y-%m-%d')\n",
    "df_7['timestamp'] = pd.to_datetime(df_7['timestamp'], unit='s').dt.strftime('%Y-%m-%d')\n",
    "df_8['timestamp'] = pd.to_datetime(df_8['timestamp'], unit='s').dt.strftime('%Y-%m-%d')"
   ]
  },
  {
   "cell_type": "code",
   "execution_count": 6,
   "metadata": {},
   "outputs": [
    {
     "name": "stdout",
     "output_type": "stream",
     "text": [
      "object\n"
     ]
    }
   ],
   "source": [
    "print(df_1['timestamp'].dtypes)"
   ]
  },
  {
   "cell_type": "code",
   "execution_count": 7,
   "metadata": {},
   "outputs": [],
   "source": [
    "# Cambio de formato del campo timestamp a DateTime\n",
    "df_1['timestamp'] = pd.to_datetime(df_1['timestamp'])\n",
    "df_2['timestamp'] = pd.to_datetime(df_2['timestamp'])\n",
    "df_3['timestamp'] = pd.to_datetime(df_3['timestamp'])\n",
    "df_4['timestamp'] = pd.to_datetime(df_4['timestamp'])\n",
    "df_5['timestamp'] = pd.to_datetime(df_5['timestamp'])\n",
    "df_6['timestamp'] = pd.to_datetime(df_6['timestamp'])\n",
    "df_7['timestamp'] = pd.to_datetime(df_7['timestamp'])\n",
    "df_8['timestamp'] = pd.to_datetime(df_8['timestamp'])"
   ]
  },
  {
   "cell_type": "code",
   "execution_count": 8,
   "metadata": {},
   "outputs": [
    {
     "name": "stdout",
     "output_type": "stream",
     "text": [
      "datetime64[ns]\n",
      "datetime64[ns]\n",
      "datetime64[ns]\n",
      "datetime64[ns]\n",
      "datetime64[ns]\n",
      "datetime64[ns]\n",
      "datetime64[ns]\n",
      "datetime64[ns]\n"
     ]
    }
   ],
   "source": [
    "# Verifico el cambio de tipo de dato\n",
    "print(df_1['timestamp'].dtypes)\n",
    "print(df_2['timestamp'].dtypes)\n",
    "print(df_3['timestamp'].dtypes)\n",
    "print(df_4['timestamp'].dtypes)\n",
    "print(df_5['timestamp'].dtypes)\n",
    "print(df_6['timestamp'].dtypes)\n",
    "print(df_7['timestamp'].dtypes)\n",
    "print(df_8['timestamp'].dtypes)"
   ]
  },
  {
   "cell_type": "code",
   "execution_count": 9,
   "metadata": {},
   "outputs": [
    {
     "data": {
      "text/html": [
       "<div>\n",
       "<style scoped>\n",
       "    .dataframe tbody tr th:only-of-type {\n",
       "        vertical-align: middle;\n",
       "    }\n",
       "\n",
       "    .dataframe tbody tr th {\n",
       "        vertical-align: top;\n",
       "    }\n",
       "\n",
       "    .dataframe thead th {\n",
       "        text-align: right;\n",
       "    }\n",
       "</style>\n",
       "<table border=\"1\" class=\"dataframe\">\n",
       "  <thead>\n",
       "    <tr style=\"text-align: right;\">\n",
       "      <th></th>\n",
       "      <th>userId</th>\n",
       "      <th>score</th>\n",
       "      <th>timestamp</th>\n",
       "      <th>movieId</th>\n",
       "    </tr>\n",
       "  </thead>\n",
       "  <tbody>\n",
       "    <tr>\n",
       "      <th>0</th>\n",
       "      <td>1</td>\n",
       "      <td>1.0</td>\n",
       "      <td>2015-03-09</td>\n",
       "      <td>as680</td>\n",
       "    </tr>\n",
       "    <tr>\n",
       "      <th>1</th>\n",
       "      <td>1</td>\n",
       "      <td>4.5</td>\n",
       "      <td>2015-03-09</td>\n",
       "      <td>ns2186</td>\n",
       "    </tr>\n",
       "    <tr>\n",
       "      <th>2</th>\n",
       "      <td>1</td>\n",
       "      <td>5.0</td>\n",
       "      <td>2015-03-09</td>\n",
       "      <td>hs2381</td>\n",
       "    </tr>\n",
       "    <tr>\n",
       "      <th>3</th>\n",
       "      <td>1</td>\n",
       "      <td>5.0</td>\n",
       "      <td>2015-03-09</td>\n",
       "      <td>ns3663</td>\n",
       "    </tr>\n",
       "    <tr>\n",
       "      <th>4</th>\n",
       "      <td>1</td>\n",
       "      <td>5.0</td>\n",
       "      <td>2015-03-09</td>\n",
       "      <td>as9500</td>\n",
       "    </tr>\n",
       "    <tr>\n",
       "      <th>...</th>\n",
       "      <td>...</td>\n",
       "      <td>...</td>\n",
       "      <td>...</td>\n",
       "      <td>...</td>\n",
       "    </tr>\n",
       "    <tr>\n",
       "      <th>1499995</th>\n",
       "      <td>15424</td>\n",
       "      <td>4.0</td>\n",
       "      <td>2013-06-02</td>\n",
       "      <td>as8698</td>\n",
       "    </tr>\n",
       "    <tr>\n",
       "      <th>1499996</th>\n",
       "      <td>15424</td>\n",
       "      <td>3.5</td>\n",
       "      <td>2013-05-26</td>\n",
       "      <td>as3663</td>\n",
       "    </tr>\n",
       "    <tr>\n",
       "      <th>1499997</th>\n",
       "      <td>15424</td>\n",
       "      <td>3.0</td>\n",
       "      <td>2013-06-29</td>\n",
       "      <td>as1325</td>\n",
       "    </tr>\n",
       "    <tr>\n",
       "      <th>1499998</th>\n",
       "      <td>15424</td>\n",
       "      <td>3.5</td>\n",
       "      <td>2013-06-29</td>\n",
       "      <td>ns4446</td>\n",
       "    </tr>\n",
       "    <tr>\n",
       "      <th>1499999</th>\n",
       "      <td>15424</td>\n",
       "      <td>3.5</td>\n",
       "      <td>2013-05-26</td>\n",
       "      <td>hs2569</td>\n",
       "    </tr>\n",
       "  </tbody>\n",
       "</table>\n",
       "<p>1500000 rows × 4 columns</p>\n",
       "</div>"
      ],
      "text/plain": [
       "         userId  score  timestamp movieId\n",
       "0             1    1.0 2015-03-09   as680\n",
       "1             1    4.5 2015-03-09  ns2186\n",
       "2             1    5.0 2015-03-09  hs2381\n",
       "3             1    5.0 2015-03-09  ns3663\n",
       "4             1    5.0 2015-03-09  as9500\n",
       "...         ...    ...        ...     ...\n",
       "1499995   15424    4.0 2013-06-02  as8698\n",
       "1499996   15424    3.5 2013-05-26  as3663\n",
       "1499997   15424    3.0 2013-06-29  as1325\n",
       "1499998   15424    3.5 2013-06-29  ns4446\n",
       "1499999   15424    3.5 2013-05-26  hs2569\n",
       "\n",
       "[1500000 rows x 4 columns]"
      ]
     },
     "execution_count": 9,
     "metadata": {},
     "output_type": "execute_result"
    }
   ],
   "source": [
    "df_1"
   ]
  },
  {
   "cell_type": "code",
   "execution_count": 10,
   "metadata": {},
   "outputs": [
    {
     "data": {
      "text/plain": [
       "0         2013-05-26\n",
       "1         2013-05-26\n",
       "2         2013-05-26\n",
       "3         2013-06-29\n",
       "4         2013-05-26\n",
       "             ...    \n",
       "1499995   1997-06-30\n",
       "1499996   1997-06-30\n",
       "1499997   1997-06-30\n",
       "1499998   2000-11-14\n",
       "1499999   2000-11-14\n",
       "Name: timestamp, Length: 1500000, dtype: datetime64[ns]"
      ]
     },
     "execution_count": 10,
     "metadata": {},
     "output_type": "execute_result"
    }
   ],
   "source": [
    "df_2['timestamp']"
   ]
  },
  {
   "cell_type": "code",
   "execution_count": 11,
   "metadata": {},
   "outputs": [
    {
     "data": {
      "text/plain": [
       "0         2000-11-14\n",
       "1         2000-11-14\n",
       "2         2000-11-14\n",
       "3         2000-11-14\n",
       "4         2000-11-14\n",
       "             ...    \n",
       "1499995   2001-07-06\n",
       "1499996   2001-07-27\n",
       "1499997   2001-07-06\n",
       "1499998   2001-07-27\n",
       "1499999   2001-10-30\n",
       "Name: timestamp, Length: 1500000, dtype: datetime64[ns]"
      ]
     },
     "execution_count": 11,
     "metadata": {},
     "output_type": "execute_result"
    }
   ],
   "source": [
    "df_3['timestamp']"
   ]
  },
  {
   "cell_type": "code",
   "execution_count": 12,
   "metadata": {},
   "outputs": [
    {
     "data": {
      "text/plain": [
       "0         2002-03-08\n",
       "1         2002-01-29\n",
       "2         2001-07-27\n",
       "3         2001-07-27\n",
       "4         2001-07-27\n",
       "             ...    \n",
       "1499995   2015-07-28\n",
       "1499996   2015-07-28\n",
       "1499997   2015-06-30\n",
       "1499998   2015-07-28\n",
       "1499999   2015-07-28\n",
       "Name: timestamp, Length: 1500000, dtype: datetime64[ns]"
      ]
     },
     "execution_count": 12,
     "metadata": {},
     "output_type": "execute_result"
    }
   ],
   "source": [
    "df_4['timestamp']"
   ]
  },
  {
   "cell_type": "code",
   "execution_count": 13,
   "metadata": {},
   "outputs": [
    {
     "data": {
      "text/plain": [
       "0         2015-07-28\n",
       "1         2015-06-30\n",
       "2         2015-07-28\n",
       "3         2015-07-28\n",
       "4         2015-07-28\n",
       "             ...    \n",
       "1499995   1997-01-07\n",
       "1499996   1997-01-07\n",
       "1499997   1997-01-07\n",
       "1499998   1997-01-07\n",
       "1499999   1997-01-07\n",
       "Name: timestamp, Length: 1500000, dtype: datetime64[ns]"
      ]
     },
     "execution_count": 13,
     "metadata": {},
     "output_type": "execute_result"
    }
   ],
   "source": [
    "df_5['timestamp']"
   ]
  },
  {
   "cell_type": "code",
   "execution_count": 14,
   "metadata": {},
   "outputs": [
    {
     "data": {
      "text/plain": [
       "0         2016-04-13\n",
       "1         2016-04-28\n",
       "2         2016-04-09\n",
       "3         2016-04-09\n",
       "4         2016-04-09\n",
       "             ...    \n",
       "1499995   1998-04-01\n",
       "1499996   1998-04-01\n",
       "1499997   1998-04-01\n",
       "1499998   1998-04-01\n",
       "1499999   1998-04-01\n",
       "Name: timestamp, Length: 1500000, dtype: datetime64[ns]"
      ]
     },
     "execution_count": 14,
     "metadata": {},
     "output_type": "execute_result"
    }
   ],
   "source": [
    "df_6['timestamp']"
   ]
  },
  {
   "cell_type": "code",
   "execution_count": 15,
   "metadata": {},
   "outputs": [
    {
     "data": {
      "text/plain": [
       "0        1998-04-01\n",
       "1        1998-04-01\n",
       "2        1998-04-01\n",
       "3        1998-04-01\n",
       "4        1998-04-01\n",
       "            ...    \n",
       "524284   2009-10-31\n",
       "524285   2009-10-31\n",
       "524286   2009-10-31\n",
       "524287   2009-11-01\n",
       "524288   2009-10-31\n",
       "Name: timestamp, Length: 524289, dtype: datetime64[ns]"
      ]
     },
     "execution_count": 15,
     "metadata": {},
     "output_type": "execute_result"
    }
   ],
   "source": [
    "df_7['timestamp']"
   ]
  },
  {
   "cell_type": "code",
   "execution_count": 16,
   "metadata": {},
   "outputs": [
    {
     "data": {
      "text/plain": [
       "0         2012-10-19\n",
       "1         2012-10-15\n",
       "2         2012-10-19\n",
       "3         2012-10-15\n",
       "4         2012-10-19\n",
       "             ...    \n",
       "1499995   2007-12-04\n",
       "1499996   2007-12-04\n",
       "1499997   2007-12-04\n",
       "1499998   2007-12-04\n",
       "1499999   2007-12-04\n",
       "Name: timestamp, Length: 1500000, dtype: datetime64[ns]"
      ]
     },
     "execution_count": 16,
     "metadata": {},
     "output_type": "execute_result"
    }
   ],
   "source": [
    "df_8['timestamp']"
   ]
  },
  {
   "attachments": {},
   "cell_type": "markdown",
   "metadata": {},
   "source": [
    "$\n",
    "ConcatenarData\n",
    "$"
   ]
  },
  {
   "cell_type": "code",
   "execution_count": 17,
   "metadata": {},
   "outputs": [],
   "source": [
    "df_ratings_completo = pd.concat([df_1, df_2, df_3, df_4, df_5, df_6, df_7, df_8])"
   ]
  },
  {
   "cell_type": "code",
   "execution_count": 18,
   "metadata": {},
   "outputs": [
    {
     "data": {
      "text/html": [
       "<div>\n",
       "<style scoped>\n",
       "    .dataframe tbody tr th:only-of-type {\n",
       "        vertical-align: middle;\n",
       "    }\n",
       "\n",
       "    .dataframe tbody tr th {\n",
       "        vertical-align: top;\n",
       "    }\n",
       "\n",
       "    .dataframe thead th {\n",
       "        text-align: right;\n",
       "    }\n",
       "</style>\n",
       "<table border=\"1\" class=\"dataframe\">\n",
       "  <thead>\n",
       "    <tr style=\"text-align: right;\">\n",
       "      <th></th>\n",
       "      <th>userId</th>\n",
       "      <th>score</th>\n",
       "      <th>timestamp</th>\n",
       "      <th>movieId</th>\n",
       "    </tr>\n",
       "  </thead>\n",
       "  <tbody>\n",
       "    <tr>\n",
       "      <th>0</th>\n",
       "      <td>1</td>\n",
       "      <td>1.0</td>\n",
       "      <td>2015-03-09</td>\n",
       "      <td>as680</td>\n",
       "    </tr>\n",
       "    <tr>\n",
       "      <th>1</th>\n",
       "      <td>1</td>\n",
       "      <td>4.5</td>\n",
       "      <td>2015-03-09</td>\n",
       "      <td>ns2186</td>\n",
       "    </tr>\n",
       "    <tr>\n",
       "      <th>2</th>\n",
       "      <td>1</td>\n",
       "      <td>5.0</td>\n",
       "      <td>2015-03-09</td>\n",
       "      <td>hs2381</td>\n",
       "    </tr>\n",
       "    <tr>\n",
       "      <th>3</th>\n",
       "      <td>1</td>\n",
       "      <td>5.0</td>\n",
       "      <td>2015-03-09</td>\n",
       "      <td>ns3663</td>\n",
       "    </tr>\n",
       "    <tr>\n",
       "      <th>4</th>\n",
       "      <td>1</td>\n",
       "      <td>5.0</td>\n",
       "      <td>2015-03-09</td>\n",
       "      <td>as9500</td>\n",
       "    </tr>\n",
       "    <tr>\n",
       "      <th>...</th>\n",
       "      <td>...</td>\n",
       "      <td>...</td>\n",
       "      <td>...</td>\n",
       "      <td>...</td>\n",
       "    </tr>\n",
       "    <tr>\n",
       "      <th>1499995</th>\n",
       "      <td>124380</td>\n",
       "      <td>4.5</td>\n",
       "      <td>2007-12-04</td>\n",
       "      <td>ns5272</td>\n",
       "    </tr>\n",
       "    <tr>\n",
       "      <th>1499996</th>\n",
       "      <td>124380</td>\n",
       "      <td>2.5</td>\n",
       "      <td>2007-12-04</td>\n",
       "      <td>ns5492</td>\n",
       "    </tr>\n",
       "    <tr>\n",
       "      <th>1499997</th>\n",
       "      <td>124380</td>\n",
       "      <td>3.5</td>\n",
       "      <td>2007-12-04</td>\n",
       "      <td>hs305</td>\n",
       "    </tr>\n",
       "    <tr>\n",
       "      <th>1499998</th>\n",
       "      <td>124380</td>\n",
       "      <td>4.5</td>\n",
       "      <td>2007-12-04</td>\n",
       "      <td>ns7881</td>\n",
       "    </tr>\n",
       "    <tr>\n",
       "      <th>1499999</th>\n",
       "      <td>124380</td>\n",
       "      <td>1.5</td>\n",
       "      <td>2007-12-04</td>\n",
       "      <td>as883</td>\n",
       "    </tr>\n",
       "  </tbody>\n",
       "</table>\n",
       "<p>11024289 rows × 4 columns</p>\n",
       "</div>"
      ],
      "text/plain": [
       "         userId  score  timestamp movieId\n",
       "0             1    1.0 2015-03-09   as680\n",
       "1             1    4.5 2015-03-09  ns2186\n",
       "2             1    5.0 2015-03-09  hs2381\n",
       "3             1    5.0 2015-03-09  ns3663\n",
       "4             1    5.0 2015-03-09  as9500\n",
       "...         ...    ...        ...     ...\n",
       "1499995  124380    4.5 2007-12-04  ns5272\n",
       "1499996  124380    2.5 2007-12-04  ns5492\n",
       "1499997  124380    3.5 2007-12-04   hs305\n",
       "1499998  124380    4.5 2007-12-04  ns7881\n",
       "1499999  124380    1.5 2007-12-04   as883\n",
       "\n",
       "[11024289 rows x 4 columns]"
      ]
     },
     "execution_count": 18,
     "metadata": {},
     "output_type": "execute_result"
    }
   ],
   "source": [
    "df_ratings_completo"
   ]
  },
  {
   "cell_type": "code",
   "execution_count": 19,
   "metadata": {},
   "outputs": [],
   "source": [
    "# Exportar a csv\n",
    "df_ratings_completo.to_csv(\"ratings/ratings_completo.csv\", index=False)"
   ]
  },
  {
   "cell_type": "code",
   "execution_count": 20,
   "metadata": {},
   "outputs": [],
   "source": [
    "df_ratings_completo = pd.read_csv(\"ratings/ratings_completo.csv\")"
   ]
  },
  {
   "cell_type": "code",
   "execution_count": 21,
   "metadata": {},
   "outputs": [
    {
     "data": {
      "text/html": [
       "<div>\n",
       "<style scoped>\n",
       "    .dataframe tbody tr th:only-of-type {\n",
       "        vertical-align: middle;\n",
       "    }\n",
       "\n",
       "    .dataframe tbody tr th {\n",
       "        vertical-align: top;\n",
       "    }\n",
       "\n",
       "    .dataframe thead th {\n",
       "        text-align: right;\n",
       "    }\n",
       "</style>\n",
       "<table border=\"1\" class=\"dataframe\">\n",
       "  <thead>\n",
       "    <tr style=\"text-align: right;\">\n",
       "      <th></th>\n",
       "      <th>userId</th>\n",
       "      <th>score</th>\n",
       "      <th>timestamp</th>\n",
       "      <th>movieId</th>\n",
       "    </tr>\n",
       "  </thead>\n",
       "  <tbody>\n",
       "    <tr>\n",
       "      <th>0</th>\n",
       "      <td>1</td>\n",
       "      <td>1.0</td>\n",
       "      <td>2015-03-09</td>\n",
       "      <td>as680</td>\n",
       "    </tr>\n",
       "    <tr>\n",
       "      <th>1</th>\n",
       "      <td>1</td>\n",
       "      <td>4.5</td>\n",
       "      <td>2015-03-09</td>\n",
       "      <td>ns2186</td>\n",
       "    </tr>\n",
       "    <tr>\n",
       "      <th>2</th>\n",
       "      <td>1</td>\n",
       "      <td>5.0</td>\n",
       "      <td>2015-03-09</td>\n",
       "      <td>hs2381</td>\n",
       "    </tr>\n",
       "    <tr>\n",
       "      <th>3</th>\n",
       "      <td>1</td>\n",
       "      <td>5.0</td>\n",
       "      <td>2015-03-09</td>\n",
       "      <td>ns3663</td>\n",
       "    </tr>\n",
       "    <tr>\n",
       "      <th>4</th>\n",
       "      <td>1</td>\n",
       "      <td>5.0</td>\n",
       "      <td>2015-03-09</td>\n",
       "      <td>as9500</td>\n",
       "    </tr>\n",
       "  </tbody>\n",
       "</table>\n",
       "</div>"
      ],
      "text/plain": [
       "   userId  score   timestamp movieId\n",
       "0       1    1.0  2015-03-09   as680\n",
       "1       1    4.5  2015-03-09  ns2186\n",
       "2       1    5.0  2015-03-09  hs2381\n",
       "3       1    5.0  2015-03-09  ns3663\n",
       "4       1    5.0  2015-03-09  as9500"
      ]
     },
     "execution_count": 21,
     "metadata": {},
     "output_type": "execute_result"
    }
   ],
   "source": [
    "df_ratings_completo.head()"
   ]
  },
  {
   "cell_type": "code",
   "execution_count": 22,
   "metadata": {},
   "outputs": [
    {
     "data": {
      "text/plain": [
       "<bound method DataFrame.info of           userId  score   timestamp movieId\n",
       "0              1    1.0  2015-03-09   as680\n",
       "1              1    4.5  2015-03-09  ns2186\n",
       "2              1    5.0  2015-03-09  hs2381\n",
       "3              1    5.0  2015-03-09  ns3663\n",
       "4              1    5.0  2015-03-09  as9500\n",
       "...          ...    ...         ...     ...\n",
       "11024284  124380    4.5  2007-12-04  ns5272\n",
       "11024285  124380    2.5  2007-12-04  ns5492\n",
       "11024286  124380    3.5  2007-12-04   hs305\n",
       "11024287  124380    4.5  2007-12-04  ns7881\n",
       "11024288  124380    1.5  2007-12-04   as883\n",
       "\n",
       "[11024289 rows x 4 columns]>"
      ]
     },
     "execution_count": 22,
     "metadata": {},
     "output_type": "execute_result"
    }
   ],
   "source": [
    "df_ratings_completo.info"
   ]
  },
  {
   "cell_type": "code",
   "execution_count": 23,
   "metadata": {},
   "outputs": [
    {
     "data": {
      "text/html": [
       "<div>\n",
       "<style scoped>\n",
       "    .dataframe tbody tr th:only-of-type {\n",
       "        vertical-align: middle;\n",
       "    }\n",
       "\n",
       "    .dataframe tbody tr th {\n",
       "        vertical-align: top;\n",
       "    }\n",
       "\n",
       "    .dataframe thead th {\n",
       "        text-align: right;\n",
       "    }\n",
       "</style>\n",
       "<table border=\"1\" class=\"dataframe\">\n",
       "  <thead>\n",
       "    <tr style=\"text-align: right;\">\n",
       "      <th></th>\n",
       "      <th>userId</th>\n",
       "      <th>score</th>\n",
       "    </tr>\n",
       "  </thead>\n",
       "  <tbody>\n",
       "    <tr>\n",
       "      <th>count</th>\n",
       "      <td>1.102429e+07</td>\n",
       "      <td>1.102429e+07</td>\n",
       "    </tr>\n",
       "    <tr>\n",
       "      <th>mean</th>\n",
       "      <td>8.997251e+04</td>\n",
       "      <td>3.533455e+00</td>\n",
       "    </tr>\n",
       "    <tr>\n",
       "      <th>std</th>\n",
       "      <td>8.686601e+04</td>\n",
       "      <td>1.059692e+00</td>\n",
       "    </tr>\n",
       "    <tr>\n",
       "      <th>min</th>\n",
       "      <td>1.000000e+00</td>\n",
       "      <td>5.000000e-01</td>\n",
       "    </tr>\n",
       "    <tr>\n",
       "      <th>25%</th>\n",
       "      <td>2.855800e+04</td>\n",
       "      <td>3.000000e+00</td>\n",
       "    </tr>\n",
       "    <tr>\n",
       "      <th>50%</th>\n",
       "      <td>5.684300e+04</td>\n",
       "      <td>3.500000e+00</td>\n",
       "    </tr>\n",
       "    <tr>\n",
       "      <th>75%</th>\n",
       "      <td>1.168670e+05</td>\n",
       "      <td>4.000000e+00</td>\n",
       "    </tr>\n",
       "    <tr>\n",
       "      <th>max</th>\n",
       "      <td>2.708960e+05</td>\n",
       "      <td>5.000000e+00</td>\n",
       "    </tr>\n",
       "  </tbody>\n",
       "</table>\n",
       "</div>"
      ],
      "text/plain": [
       "             userId         score\n",
       "count  1.102429e+07  1.102429e+07\n",
       "mean   8.997251e+04  3.533455e+00\n",
       "std    8.686601e+04  1.059692e+00\n",
       "min    1.000000e+00  5.000000e-01\n",
       "25%    2.855800e+04  3.000000e+00\n",
       "50%    5.684300e+04  3.500000e+00\n",
       "75%    1.168670e+05  4.000000e+00\n",
       "max    2.708960e+05  5.000000e+00"
      ]
     },
     "execution_count": 23,
     "metadata": {},
     "output_type": "execute_result"
    }
   ],
   "source": [
    "df_ratings_completo.describe()"
   ]
  }
 ],
 "metadata": {
  "kernelspec": {
   "display_name": "Python 3",
   "language": "python",
   "name": "python3"
  },
  "language_info": {
   "codemirror_mode": {
    "name": "ipython",
    "version": 3
   },
   "file_extension": ".py",
   "mimetype": "text/x-python",
   "name": "python",
   "nbconvert_exporter": "python",
   "pygments_lexer": "ipython3",
   "version": "3.11.1"
  },
  "orig_nbformat": 4,
  "vscode": {
   "interpreter": {
    "hash": "5dc8b4e25d3d97065a02c3338f3242e8235f54a2cf78964a2ea20743c210654d"
   }
  }
 },
 "nbformat": 4,
 "nbformat_minor": 2
}
