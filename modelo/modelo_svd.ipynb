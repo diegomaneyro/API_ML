{
  "cells": [
    {
      "attachments": {},
      "cell_type": "markdown",
      "metadata": {
        "id": "QB5eyErCR8PM"
      },
      "source": [
        "$$\n",
        "Modelo\n",
        "$$"
      ]
    },
    {
      "cell_type": "code",
      "execution_count": 1,
      "metadata": {
        "id": "ENeMbayfhFIi"
      },
      "outputs": [],
      "source": [
        "# importar librerias necesarias\n",
        "from surprise import Dataset, Reader, SVD\n",
        "from surprise.model_selection import train_test_split\n",
        "import matplotlib.pyplot as plt\n",
        "import pandas as pd"
      ]
    },
    {
      "cell_type": "code",
      "execution_count": 2,
      "metadata": {
        "id": "JFpQzz7xchrI"
      },
      "outputs": [],
      "source": [
        "\n",
        "#importar datos\n",
        "df_movie = pd.read_csv(\"../datos/csvs/peliculas/peliculas_final.csv\", sep=',', usecols=['id','title'])\n",
        "df_scores = pd.read_csv(\"../datos/csvs/ratings/ratings_final.csv\", sep=',', usecols=['userId','score','movieId'])\n",
        "df_movie = df_movie.reset_index(drop=True)\n",
        "\n"
      ]
    },
    {
      "attachments": {},
      "cell_type": "markdown",
      "metadata": {
        "id": "7DQTR9L2h5UB"
      },
      "source": [
        "### visualizar solo las columnas que usare para el modelo y la recomendacion"
      ]
    },
    {
      "cell_type": "code",
      "execution_count": 3,
      "metadata": {
        "colab": {
          "base_uri": "https://localhost:8080/",
          "height": 206
        },
        "id": "oPgZf3iFhXCC",
        "outputId": "ee4c985b-94bd-4739-ebec-7c1ecc182b0d"
      },
      "outputs": [
        {
          "data": {
            "text/html": [
              "<div>\n",
              "<style scoped>\n",
              "    .dataframe tbody tr th:only-of-type {\n",
              "        vertical-align: middle;\n",
              "    }\n",
              "\n",
              "    .dataframe tbody tr th {\n",
              "        vertical-align: top;\n",
              "    }\n",
              "\n",
              "    .dataframe thead th {\n",
              "        text-align: right;\n",
              "    }\n",
              "</style>\n",
              "<table border=\"1\" class=\"dataframe\">\n",
              "  <thead>\n",
              "    <tr style=\"text-align: right;\">\n",
              "      <th></th>\n",
              "      <th>id</th>\n",
              "      <th>title</th>\n",
              "    </tr>\n",
              "  </thead>\n",
              "  <tbody>\n",
              "    <tr>\n",
              "      <th>0</th>\n",
              "      <td>ns1</td>\n",
              "      <td>dick johnson is dead</td>\n",
              "    </tr>\n",
              "    <tr>\n",
              "      <th>1</th>\n",
              "      <td>ns2</td>\n",
              "      <td>blood &amp; water</td>\n",
              "    </tr>\n",
              "    <tr>\n",
              "      <th>2</th>\n",
              "      <td>ns3</td>\n",
              "      <td>ganglands</td>\n",
              "    </tr>\n",
              "    <tr>\n",
              "      <th>3</th>\n",
              "      <td>ns4</td>\n",
              "      <td>jailbirds new orleans</td>\n",
              "    </tr>\n",
              "    <tr>\n",
              "      <th>4</th>\n",
              "      <td>ns5</td>\n",
              "      <td>kota factory</td>\n",
              "    </tr>\n",
              "  </tbody>\n",
              "</table>\n",
              "</div>"
            ],
            "text/plain": [
              "    id                  title\n",
              "0  ns1   dick johnson is dead\n",
              "1  ns2          blood & water\n",
              "2  ns3              ganglands\n",
              "3  ns4  jailbirds new orleans\n",
              "4  ns5           kota factory"
            ]
          },
          "execution_count": 3,
          "metadata": {},
          "output_type": "execute_result"
        }
      ],
      "source": [
        "# visualizar peliculas\n",
        "df_movie.head()"
      ]
    },
    {
      "cell_type": "code",
      "execution_count": 4,
      "metadata": {
        "colab": {
          "base_uri": "https://localhost:8080/",
          "height": 206
        },
        "id": "rCRSGfrvhdAP",
        "outputId": "ec0c654b-fdd7-4743-ac4e-28a96b48f37f"
      },
      "outputs": [
        {
          "data": {
            "text/html": [
              "<div>\n",
              "<style scoped>\n",
              "    .dataframe tbody tr th:only-of-type {\n",
              "        vertical-align: middle;\n",
              "    }\n",
              "\n",
              "    .dataframe tbody tr th {\n",
              "        vertical-align: top;\n",
              "    }\n",
              "\n",
              "    .dataframe thead th {\n",
              "        text-align: right;\n",
              "    }\n",
              "</style>\n",
              "<table border=\"1\" class=\"dataframe\">\n",
              "  <thead>\n",
              "    <tr style=\"text-align: right;\">\n",
              "      <th></th>\n",
              "      <th>userId</th>\n",
              "      <th>score</th>\n",
              "      <th>movieId</th>\n",
              "    </tr>\n",
              "  </thead>\n",
              "  <tbody>\n",
              "    <tr>\n",
              "      <th>0</th>\n",
              "      <td>1</td>\n",
              "      <td>1.0</td>\n",
              "      <td>as680</td>\n",
              "    </tr>\n",
              "    <tr>\n",
              "      <th>1</th>\n",
              "      <td>1</td>\n",
              "      <td>4.5</td>\n",
              "      <td>ns2186</td>\n",
              "    </tr>\n",
              "    <tr>\n",
              "      <th>2</th>\n",
              "      <td>1</td>\n",
              "      <td>5.0</td>\n",
              "      <td>hs2381</td>\n",
              "    </tr>\n",
              "    <tr>\n",
              "      <th>3</th>\n",
              "      <td>1</td>\n",
              "      <td>5.0</td>\n",
              "      <td>ns3663</td>\n",
              "    </tr>\n",
              "    <tr>\n",
              "      <th>4</th>\n",
              "      <td>1</td>\n",
              "      <td>5.0</td>\n",
              "      <td>as9500</td>\n",
              "    </tr>\n",
              "  </tbody>\n",
              "</table>\n",
              "</div>"
            ],
            "text/plain": [
              "   userId  score movieId\n",
              "0       1    1.0   as680\n",
              "1       1    4.5  ns2186\n",
              "2       1    5.0  hs2381\n",
              "3       1    5.0  ns3663\n",
              "4       1    5.0  as9500"
            ]
          },
          "execution_count": 4,
          "metadata": {},
          "output_type": "execute_result"
        }
      ],
      "source": [
        "# visualizar los ratings de peliculas por usuario\n",
        "df_scores.head()"
      ]
    },
    {
      "cell_type": "code",
      "execution_count": 7,
      "metadata": {
        "id": "nFWKyL3Y1iJW"
      },
      "outputs": [],
      "source": [
        "# Crear un objeto Reader para analizar los datos de entrada\n",
        "reader = Reader(rating_scale=(0.5, 5.0))\n"
      ]
    },
    {
      "attachments": {},
      "cell_type": "markdown",
      "metadata": {
        "id": "1oKLsYWXpJr4"
      },
      "source": [
        "### elegir un numero inferior al dataset paar entrenar el modelo y asi evitar el overfiting"
      ]
    },
    {
      "cell_type": "code",
      "execution_count": 8,
      "metadata": {
        "id": "G7Wjt3ab3EBu"
      },
      "outputs": [],
      "source": [
        "limite = 205000\n",
        "reader = Reader(rating_scale=(1,5))\n",
        "data = Dataset.load_from_df(df_scores[['userId', 'movieId','score']][:limite], reader)"
      ]
    },
    {
      "attachments": {},
      "cell_type": "markdown",
      "metadata": {
        "id": "Ms4en9mMroeY"
      },
      "source": [
        "### Entrenamento de modelo"
      ]
    },
    {
      "cell_type": "code",
      "execution_count": 9,
      "metadata": {
        "colab": {
          "base_uri": "https://localhost:8080/"
        },
        "id": "mF9BNDWI1z0f",
        "outputId": "f9af5ff3-808d-4536-ecda-bd5f57868365"
      },
      "outputs": [
        {
          "data": {
            "text/plain": [
              "<surprise.prediction_algorithms.matrix_factorization.SVD at 0x1df00a0fed0>"
            ]
          },
          "execution_count": 9,
          "metadata": {},
          "output_type": "execute_result"
        }
      ],
      "source": [
        "# Dividir los datos en conjuntos de entrenamiento y prueba\n",
        "trainset, testset = train_test_split(data, test_size=0.3, random_state=42)\n",
        "\n",
        "# Entrenar un modelo SVD\n",
        "model = SVD(n_factors=50, lr_all=0.005, reg_all=0.02, n_epochs=100)\n",
        "model.fit(trainset)"
      ]
    },
    {
      "cell_type": "code",
      "execution_count": 10,
      "metadata": {
        "id": "Z7Mkpadh2c1_"
      },
      "outputs": [],
      "source": [
        "# Hacer predicciones para un usuario específico\n",
        "user_id = 1\n",
        "movies_watched_by_user = df_scores[df_scores['userId'] == user_id]['movieId'].tolist()\n",
        "unseen_movies_by_user = df_scores[~df_scores['movieId'].isin(movies_watched_by_user)]['movieId'].tolist()\n",
        "testset = [[user_id, movie_id, 4] for movie_id in unseen_movies_by_user]\n",
        "predictions = model.test(testset)"
      ]
    },
    {
      "cell_type": "code",
      "execution_count": 11,
      "metadata": {
        "id": "LZA_EJMd4BWg"
      },
      "outputs": [],
      "source": [
        "# Obtener las 5 películas más recomendadas\n",
        "top_n = 5\n",
        "recommended_movies = []\n",
        "for uid, iid, _, est, _ in predictions:\n",
        "    recommended_movies.append((iid, est))\n",
        "recommended_movies.sort(key=lambda x: x[1], reverse=True)\n",
        "recommended_movies = recommended_movies[:top_n]"
      ]
    },
    {
      "cell_type": "code",
      "execution_count": 12,
      "metadata": {
        "colab": {
          "base_uri": "https://localhost:8080/"
        },
        "id": "Lc9uNiS01SS1",
        "outputId": "4f949d92-a87b-4291-b071-eecf16ca8002"
      },
      "outputs": [
        {
          "name": "stdout",
          "output_type": "stream",
          "text": [
            "Las películas recomendadas para el usuario 1 son:\n",
            "1. footprints: the path of your life\n",
            "2. melrose place\n",
            "3. the simpsons\n",
            "4. little baby bus and friends\n",
            "5. cruisin' route 66 with michael wallis\n"
          ]
        }
      ],
      "source": [
        "# Obtener los títulos de las películas recomendadas\n",
        "recommended_movies_titles = df_movie[df_movie['id'].isin([x[0] for x in recommended_movies])]['title'].tolist()\n",
        "\n",
        "print('Las películas recomendadas para el usuario {} son:'.format(user_id))\n",
        "for i, movie_title in enumerate(recommended_movies_titles):\n",
        "    print('{}. {}'.format(i+1, movie_title))\n"
      ]
    },
    {
      "attachments": {},
      "cell_type": "markdown",
      "metadata": {},
      "source": [
        "mejorado"
      ]
    },
    {
      "cell_type": "code",
      "execution_count": 13,
      "metadata": {},
      "outputs": [],
      "source": [
        "# importar librerias necesarias\n",
        "from surprise import Dataset, Reader, SVD\n",
        "from surprise.model_selection import train_test_split\n",
        "import matplotlib.pyplot as plt\n",
        "import pandas as pd\n",
        "\n",
        "# importar datos\n",
        "df_movie = pd.read_csv(\"../datos/csvs/peliculas/peliculas_final.csv\", sep=',', usecols=['id','title'])\n",
        "df_scores = pd.read_csv(\"../datos/csvs/ratings/ratings_final.csv\", sep=',', usecols=['userId','score','movieId'])\n",
        "df_movie = df_movie.reset_index(drop=True)\n",
        "\n",
        "# Crear un objeto Reader para analizar los datos de entrada\n",
        "reader = Reader(rating_scale=(1, 5))\n",
        "\n",
        "limite = 205000\n",
        "data = Dataset.load_from_df(df_scores[['userId', 'movieId', 'score']][:limite], reader)\n",
        "\n",
        "# Dividir los datos en conjuntos de entrenamiento y prueba\n",
        "trainset, testset = train_test_split(data, test_size=0.3, random_state=42)\n",
        "\n",
        "# Entrenar un modelo SVD\n",
        "model = SVD(n_factors=50, lr_all=0.005, reg_all=0.02, n_epochs=100)\n",
        "model.fit(trainset)\n",
        "\n",
        "# Hacer predicciones para un usuario específico\n",
        "user_id = 1\n",
        "movies_watched_by_user = df_scores[df_scores['userId'] == user_id]['movieId'].tolist()\n",
        "unseen_movies_by_user = df_scores[~df_scores['movieId'].isin(movies_watched_by_user)]['movieId'].tolist()\n",
        "testset = [[user_id, movie_id, 4] for movie_id in unseen_movies_by_user]\n",
        "predictions = model.test(testset)\n",
        "\n",
        "# Obtener las películas recomendadas\n",
        "recommended_movies = [(pred.iid, pred.est) for pred in predictions]\n",
        "recommended_movies.sort(key=lambda x: x[1], reverse=True)\n",
        "recommended_movie_ids = [movie[0] for movie in recommended_movies]\n",
        "\n",
        "# Obtener los títulos de las películas recomendadas\n",
        "recommended_movies_titles = df_movie[df_movie['id'].isin(recommended_movie_ids)]['title'].tolist()\n",
        "\n",
        "print('Las películas recomendadas para el usuario {} son:'.format(user_id))\n",
        "for i, movie_title in enumerate(recommended_movies_titles):\n",
        "    print('{}. {}'.format(i + 1, movie_title))\n"
      ]
    },
    {
      "attachments": {},
      "cell_type": "markdown",
      "metadata": {},
      "source": [
        "modelo"
      ]
    },
    {
      "cell_type": "code",
      "execution_count": 1,
      "metadata": {},
      "outputs": [],
      "source": [
        "# funcion de recomendacion\n",
        "# importar librerias necesarias\n",
        "from surprise import Dataset, Reader, SVD\n",
        "from surprise.model_selection import train_test_split\n",
        "import pandas as pd\n",
        "\n",
        "def get_recommended_movies(user_id):\n",
        "    # importar datos\n",
        "    df_movie = pd.read_csv(\"../datos/csvs/peliculas/peliculas_final.csv\", sep=',', usecols=['id','title'])\n",
        "    df_scores = pd.read_csv(\"../datos/csvs/ratings/ratings_final.csv\", sep=',', usecols=['userId','score','movieId'])\n",
        "    df_movie = df_movie.reset_index(drop=True)\n",
        "\n",
        "    # Crear un objeto Reader para analizar los datos de entrada\n",
        "    reader = Reader(rating_scale=(1, 5))\n",
        "\n",
        "    limite = 205000\n",
        "    data = Dataset.load_from_df(df_scores[['userId', 'movieId', 'score']][:limite], reader)\n",
        "\n",
        "    # Dividir los datos en conjuntos de entrenamiento y prueba\n",
        "    trainset, testset = train_test_split(data, test_size=0.3, random_state=42)\n",
        "\n",
        "    # Entrenar un modelo SVD\n",
        "    model = SVD(n_factors=50, lr_all=0.005, reg_all=0.02, n_epochs=100)\n",
        "    model.fit(trainset)\n",
        "\n",
        "    # Hacer predicciones para el usuario específico\n",
        "    movies_watched_by_user = df_scores[df_scores['userId'] == user_id]['movieId'].tolist()\n",
        "    unseen_movies_by_user = df_scores[~df_scores['movieId'].isin(movies_watched_by_user)]['movieId'].tolist()\n",
        "    testset = [[user_id, movie_id, 4] for movie_id in unseen_movies_by_user]\n",
        "    predictions = model.test(testset)\n",
        "\n",
        "    # Obtener las películas recomendadas\n",
        "    recommended_movies = [(pred.iid, pred.est) for pred in predictions]\n",
        "    recommended_movies.sort(key=lambda x: x[1], reverse=True)\n",
        "    recommended_movie_ids = [movie[0] for movie in recommended_movies]\n",
        "\n",
        "    # Obtener los títulos de las películas recomendadas\n",
        "    recommended_movies_titles = df_movie[df_movie['id'].isin(recommended_movie_ids)]['title'].tolist()\n",
        "\n",
        "    return recommended_movies_titles\n"
      ]
    },
    {
      "attachments": {},
      "cell_type": "markdown",
      "metadata": {},
      "source": [
        "interface"
      ]
    },
    {
      "cell_type": "code",
      "execution_count": 2,
      "metadata": {},
      "outputs": [
        {
          "name": "stderr",
          "output_type": "stream",
          "text": [
            "d:\\MisProyectos\\ApiStream\\venv\\Lib\\site-packages\\tqdm\\auto.py:21: TqdmWarning: IProgress not found. Please update jupyter and ipywidgets. See https://ipywidgets.readthedocs.io/en/stable/user_install.html\n",
            "  from .autonotebook import tqdm as notebook_tqdm\n",
            "d:\\MisProyectos\\ApiStream\\venv\\Lib\\site-packages\\gradio\\inputs.py:27: UserWarning: Usage of gradio.inputs is deprecated, and will not be supported in the future, please import your component from gradio.components\n",
            "  warnings.warn(\n",
            "d:\\MisProyectos\\ApiStream\\venv\\Lib\\site-packages\\gradio\\inputs.py:30: UserWarning: `optional` parameter is deprecated, and it has no effect\n",
            "  super().__init__(\n",
            "d:\\MisProyectos\\ApiStream\\venv\\Lib\\site-packages\\gradio\\inputs.py:30: UserWarning: `numeric` parameter is deprecated, and it has no effect\n",
            "  super().__init__(\n"
          ]
        },
        {
          "name": "stdout",
          "output_type": "stream",
          "text": [
            "Running on local URL:  http://127.0.0.1:7861\n",
            "\n",
            "To create a public link, set `share=True` in `launch()`.\n"
          ]
        },
        {
          "data": {
            "text/html": [
              "<div><iframe src=\"http://127.0.0.1:7861/\" width=\"100%\" height=\"500\" allow=\"autoplay; camera; microphone; clipboard-read; clipboard-write;\" frameborder=\"0\" allowfullscreen></iframe></div>"
            ],
            "text/plain": [
              "<IPython.core.display.HTML object>"
            ]
          },
          "metadata": {},
          "output_type": "display_data"
        },
        {
          "data": {
            "text/plain": []
          },
          "execution_count": 2,
          "metadata": {},
          "output_type": "execute_result"
        }
      ],
      "source": [
        "import gradio as gr\n",
        "from getpass import getpass\n",
        "\n",
        "# Definir la función de clasificación\n",
        "def recommend_movies(user_id):\n",
        "    recommended_movies = get_recommended_movies(user_id)\n",
        "    return \"\\n\".join(recommended_movies)\n",
        "\n",
        "# Definir la interfaz de usuario\n",
        "user_id_input = gr.inputs.Textbox(label=\"User ID\")\n",
        "\n",
        "interface = gr.Interface(\n",
        "    fn=recommend_movies,\n",
        "    inputs=user_id_input,\n",
        "    outputs=\"text\",\n",
        "    title=\"Movie Recommender\",\n",
        "    description=\"Enter a user ID to get recommended movies.\"\n",
        ")\n",
        "\n",
        "# Ejecutar la interfaz de usuario\n",
        "interface.launch()\n"
      ]
    },
    {
      "attachments": {},
      "cell_type": "markdown",
      "metadata": {},
      "source": [
        "funcion entrena el modelo"
      ]
    },
    {
      "cell_type": "code",
      "execution_count": 3,
      "metadata": {},
      "outputs": [],
      "source": [
        "from surprise import Dataset, Reader, SVD\n",
        "from surprise.model_selection import train_test_split\n",
        "import pandas as pd\n",
        "\n",
        "# Función para entrenar el modelo y devolverlo\n",
        "def train_model():\n",
        "    # Importar datos\n",
        "    df_movie = pd.read_csv(\"../datos/csvs/peliculas/peliculas_final.csv\", sep=',', usecols=['id','title'])\n",
        "    df_scores = pd.read_csv(\"../datos/csvs/ratings/ratings_final.csv\", sep=',', usecols=['userId','score','movieId'])\n",
        "    df_movie = df_movie.reset_index(drop=True)\n",
        "\n",
        "    # Crear un objeto Reader para analizar los datos de entrada\n",
        "    reader = Reader(rating_scale=(1, 5))\n",
        "\n",
        "    limite = 205000\n",
        "    data = Dataset.load_from_df(df_scores[['userId', 'movieId', 'score']][:limite], reader)\n",
        "\n",
        "    # Dividir los datos en conjuntos de entrenamiento y prueba\n",
        "    trainset, testset = train_test_split(data, test_size=0.3, random_state=42)\n",
        "\n",
        "    # Entrenar un modelo SVD\n",
        "    model = SVD(n_factors=50, lr_all=0.005, reg_all=0.02, n_epochs=100)\n",
        "    model.fit(trainset)\n",
        "\n",
        "    return model"
      ]
    },
    {
      "cell_type": "code",
      "execution_count": 4,
      "metadata": {},
      "outputs": [],
      "source": [
        "# Función para realizar las predicciones con el modelo entrenado\n",
        "def predict_movies(model, user_id):\n",
        "    # Importar datos\n",
        "    df_movie = pd.read_csv(\"../datos/csvs/peliculas/peliculas_final.csv\", sep=',', usecols=['id','title'])\n",
        "    df_scores = pd.read_csv(\"../datos/csvs/ratings/ratings_final.csv\", sep=',', usecols=['userId','score','movieId'])\n",
        "    df_movie = df_movie.reset_index(drop=True)\n",
        "\n",
        "    # Hacer predicciones para el usuario específico\n",
        "    movies_watched_by_user = df_scores[df_scores['userId'] == user_id]['movieId'].tolist()\n",
        "    unseen_movies_by_user = df_scores[~df_scores['movieId'].isin(movies_watched_by_user)]['movieId'].tolist()\n",
        "    testset = [[user_id, movie_id, 4] for movie_id in unseen_movies_by_user]\n",
        "    predictions = model.test(testset)\n",
        "\n",
        "    # Obtener las películas recomendadas\n",
        "    recommended_movies = [(pred.iid, pred.est) for pred in predictions]\n",
        "    recommended_movies.sort(key=lambda x: x[1], reverse=True)\n",
        "    recommended_movie_ids = [movie[0] for movie in recommended_movies]\n",
        "\n",
        "    # Obtener los títulos de las películas recomendadas\n",
        "    recommended_movies_titles = df_movie[df_movie['id'].isin(recommended_movie_ids)]['title'].tolist()\n",
        "\n",
        "    return recommended_movies_titles\n",
        "\n",
        "# Entrenar el modelo\n",
        "trained_model = train_model()"
      ]
    },
    {
      "cell_type": "code",
      "execution_count": 5,
      "metadata": {},
      "outputs": [
        {
          "name": "stderr",
          "output_type": "stream",
          "text": [
            "d:\\MisProyectos\\ApiStream\\venv\\Lib\\site-packages\\gradio\\inputs.py:27: UserWarning: Usage of gradio.inputs is deprecated, and will not be supported in the future, please import your component from gradio.components\n",
            "  warnings.warn(\n",
            "d:\\MisProyectos\\ApiStream\\venv\\Lib\\site-packages\\gradio\\inputs.py:30: UserWarning: `optional` parameter is deprecated, and it has no effect\n",
            "  super().__init__(\n",
            "d:\\MisProyectos\\ApiStream\\venv\\Lib\\site-packages\\gradio\\inputs.py:30: UserWarning: `numeric` parameter is deprecated, and it has no effect\n",
            "  super().__init__(\n"
          ]
        },
        {
          "name": "stdout",
          "output_type": "stream",
          "text": [
            "Running on local URL:  http://127.0.0.1:7862\n",
            "\n",
            "To create a public link, set `share=True` in `launch()`.\n"
          ]
        },
        {
          "data": {
            "text/html": [
              "<div><iframe src=\"http://127.0.0.1:7862/\" width=\"100%\" height=\"500\" allow=\"autoplay; camera; microphone; clipboard-read; clipboard-write;\" frameborder=\"0\" allowfullscreen></iframe></div>"
            ],
            "text/plain": [
              "<IPython.core.display.HTML object>"
            ]
          },
          "metadata": {},
          "output_type": "display_data"
        },
        {
          "data": {
            "text/plain": []
          },
          "execution_count": 5,
          "metadata": {},
          "output_type": "execute_result"
        }
      ],
      "source": [
        "import gradio as gr\n",
        "# Definir la función de clasificación para Gradio\n",
        "def recommend_movies(user_id):\n",
        "    recommended_movies = predict_movies(trained_model, user_id)\n",
        "    return \"\\n\".join(recommended_movies)\n",
        "\n",
        "# Definir la interfaz de usuario\n",
        "user_id_input = gr.inputs.Textbox(label=\"User ID\")\n",
        "\n",
        "interface = gr.Interface(\n",
        "    fn=recommend_movies,\n",
        "    inputs=user_id_input,\n",
        "    outputs=\"text\",\n",
        "    title=\"Movie Recommender\",\n",
        "    description=\"Enter a user ID to get recommended movies.\"\n",
        ")\n",
        "\n",
        "# Ejecutar la interfaz de usuario\n",
        "interface.launch()"
      ]
    },
    {
      "attachments": {},
      "cell_type": "markdown",
      "metadata": {},
      "source": [
        "El código proporcionado es una implementación de un sistema de recomendación de películas utilizando el algoritmo de Factorización de Matrices Singular Value Decomposition (SVD) de la biblioteca Surprise. El sistema permite ingresar un ID de usuario y devuelve una lista de películas recomendadas para ese usuario en función de los datos de películas y puntajes proporcionados.\n",
        "\n",
        "El funcionamiento del código se puede describir en los siguientes pasos:\n",
        "\n",
        "1. Se importan las librerías necesarias, incluyendo Gradio, la biblioteca Surprise y pandas para el manejo de datos.\n",
        "\n",
        "2. La función `train_model()` se encarga de cargar los datos de películas y puntajes, crear un objeto `Reader` para analizar los datos de entrada, dividir los datos en conjuntos de entrenamiento y prueba, y entrenar un modelo SVD utilizando el conjunto de entrenamiento. Luego, devuelve el modelo entrenado.\n",
        "\n",
        "3. La función `predict_movies(model, user_id)` toma el modelo entrenado y un ID de usuario como entrada. Utiliza el modelo para hacer predicciones de películas para el usuario específico. Primero, obtiene las películas que el usuario ya ha visto y las películas que el usuario aún no ha visto. Luego, genera un conjunto de prueba con el usuario, las películas no vistas y una puntuación inicial de 4. A continuación, hace predicciones utilizando el modelo para este conjunto de prueba. Las predicciones contienen el ID de la película y la estimación de puntuación. Luego, ordena las predicciones en orden descendente según la estimación de puntuación y obtiene los IDs de las películas recomendadas. Finalmente, obtiene los títulos de las películas recomendadas utilizando los IDs y los devuelve en forma de lista.\n",
        "\n",
        "4. Se entrena el modelo llamando a la función `train_model()`, y se guarda en la variable `trained_model`.\n",
        "\n",
        "5. Se define la función `recommend_movies(user_id)` como la función de clasificación para Gradio. Toma un ID de usuario como entrada y llama a la función `predict_movies()` con el modelo entrenado y el ID de usuario para obtener la lista de películas recomendadas. Luego, devuelve las películas recomendadas como una cadena de texto con saltos de línea entre cada título.\n",
        "\n",
        "6. Se define la interfaz de usuario utilizando Gradio. Se utiliza un cuadro de texto para ingresar el ID de usuario. La función de clasificación `recommend_movies()` se asigna como la función a ejecutar cuando se envía el formulario.\n",
        "\n",
        "7. Se lanza la interfaz de usuario utilizando `interface.launch()`, lo que permite interactuar con la aplicación y obtener las películas recomendadas para un usuario ingresado.\n",
        "\n",
        "Con esta implementación, los usuarios pueden ingresar su ID y obtener recomendaciones de películas personalizadas basadas en el modelo SVD entrenado."
      ]
    }
  ],
  "metadata": {
    "colab": {
      "provenance": []
    },
    "kernelspec": {
      "display_name": "Python 3",
      "name": "python3"
    },
    "language_info": {
      "codemirror_mode": {
        "name": "ipython",
        "version": 3
      },
      "file_extension": ".py",
      "mimetype": "text/x-python",
      "name": "python",
      "nbconvert_exporter": "python",
      "pygments_lexer": "ipython3",
      "version": "3.11.2"
    }
  },
  "nbformat": 4,
  "nbformat_minor": 0
}
