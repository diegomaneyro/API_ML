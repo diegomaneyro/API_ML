{
 "cells": [
  {
   "attachments": {},
   "cell_type": "markdown",
   "metadata": {},
   "source": [
    "# ETL-Peliculas\n"
   ]
  },
  {
   "attachments": {},
   "cell_type": "markdown",
   "metadata": {},
   "source": [
    "#### Importar librerias"
   ]
  },
  {
   "cell_type": "code",
   "execution_count": 38,
   "metadata": {},
   "outputs": [],
   "source": [
    "# importar librerias necesarias\n",
    "import pandas as pd\n",
    "import numpy as np"
   ]
  },
  {
   "attachments": {},
   "cell_type": "markdown",
   "metadata": {},
   "source": [
    "#### Cargar datos desde csv a dataframe"
   ]
  },
  {
   "cell_type": "code",
   "execution_count": 39,
   "metadata": {},
   "outputs": [],
   "source": [
    "# Cargar los datasets\n",
    "df_netflix = pd.read_csv('../csvs/peliculas/netflix_titles.csv')\n",
    "df_amazon = pd.read_csv('../csvs/peliculas/amazon_prime_titles.csv')\n",
    "df_hulu = pd.read_csv('../csvs/peliculas/hulu_titles.csv')\n",
    "df_disney = pd.read_csv('../csvs/peliculas/disney_plus_titles.csv')"
   ]
  },
  {
   "attachments": {},
   "cell_type": "markdown",
   "metadata": {},
   "source": [
    "#### Transformaciones y normalizacion"
   ]
  },
  {
   "attachments": {},
   "cell_type": "markdown",
   "metadata": {},
   "source": [
    "cambiar la columna id agregando la primera letra de la plataforma que corresponda"
   ]
  },
  {
   "cell_type": "code",
   "execution_count": 40,
   "metadata": {},
   "outputs": [],
   "source": [
    "# Generar campo ID\n",
    "df_netflix['id'] = 'n' + df_netflix['show_id'].astype(str)\n",
    "df_amazon['id'] = 'a' + df_amazon['show_id'].astype(str)\n",
    "df_hulu['id'] = 'h' + df_hulu['show_id'].astype(str)\n",
    "df_disney['id'] = 'd' + df_disney['show_id'].astype(str)"
   ]
  },
  {
   "attachments": {},
   "cell_type": "markdown",
   "metadata": {},
   "source": [
    "cambiar df a minuscula"
   ]
  },
  {
   "cell_type": "code",
   "execution_count": 41,
   "metadata": {},
   "outputs": [],
   "source": [
    "# Convertir los campos de texto a minúsculas\n",
    "df_netflix = df_netflix.apply(lambda x: x.str.lower() if x.dtype == \"object\" else x)\n",
    "df_amazon = df_amazon.apply(lambda x: x.str.lower() if x.dtype == \"object\" else x)\n",
    "df_hulu = df_hulu.apply(lambda x: x.str.lower() if x.dtype == \"object\" else x)\n",
    "df_disney = df_disney.apply(lambda x: x.str.lower() if x.dtype == \"object\" else x)"
   ]
  },
  {
   "cell_type": "code",
   "execution_count": 42,
   "metadata": {},
   "outputs": [],
   "source": [
    "# Reemplazar valores nulos del campo rating\n",
    "df_netflix['rating'] = df_netflix['rating'].fillna('G')\n",
    "df_amazon['rating'] = df_amazon['rating'].fillna('G')\n",
    "df_hulu['rating'] = df_hulu['rating'].fillna('G')\n",
    "df_disney['rating'] = df_disney['rating'].fillna('G')"
   ]
  },
  {
   "attachments": {},
   "cell_type": "markdown",
   "metadata": {},
   "source": [
    "reemplazar los NaN de los df por SinDato"
   ]
  },
  {
   "cell_type": "code",
   "execution_count": 43,
   "metadata": {},
   "outputs": [],
   "source": [
    "df_hulu = df_hulu.fillna('SinDato')\n",
    "df_amazon = df_amazon.fillna('SinDato')\n",
    "df_disney = df_disney.fillna('SinDato')\n",
    "df_netflix = df_netflix.fillna('SinDato')"
   ]
  },
  {
   "attachments": {},
   "cell_type": "markdown",
   "metadata": {},
   "source": [
    "la columna date_added es una marca de tiempo lo convierto a formato fecha"
   ]
  },
  {
   "cell_type": "code",
   "execution_count": 44,
   "metadata": {},
   "outputs": [
    {
     "name": "stderr",
     "output_type": "stream",
     "text": [
      "C:\\Users\\diego\\AppData\\Local\\Temp\\ipykernel_4576\\2177828510.py:2: UserWarning: Could not infer format, so each element will be parsed individually, falling back to `dateutil`. To ensure parsing is consistent and as-expected, please specify a format.\n",
      "  df_netflix['date_added'] = pd.to_datetime(df_netflix['date_added'], errors='coerce')\n",
      "C:\\Users\\diego\\AppData\\Local\\Temp\\ipykernel_4576\\2177828510.py:5: UserWarning: Could not infer format, so each element will be parsed individually, falling back to `dateutil`. To ensure parsing is consistent and as-expected, please specify a format.\n",
      "  df_amazon['date_added'] = pd.to_datetime(df_amazon['date_added'], errors='coerce')\n",
      "C:\\Users\\diego\\AppData\\Local\\Temp\\ipykernel_4576\\2177828510.py:8: UserWarning: Could not infer format, so each element will be parsed individually, falling back to `dateutil`. To ensure parsing is consistent and as-expected, please specify a format.\n",
      "  df_hulu['date_added'] = pd.to_datetime(df_hulu['date_added'], errors='coerce')\n",
      "C:\\Users\\diego\\AppData\\Local\\Temp\\ipykernel_4576\\2177828510.py:11: UserWarning: Could not infer format, so each element will be parsed individually, falling back to `dateutil`. To ensure parsing is consistent and as-expected, please specify a format.\n",
      "  df_disney['date_added'] = pd.to_datetime(df_disney['date_added'], errors='coerce')\n"
     ]
    }
   ],
   "source": [
    "# Cambiar el formato de las fechas\n",
    "df_netflix['date_added'] = pd.to_datetime(df_netflix['date_added'], errors='coerce')\n",
    "df_netflix['date_added'] = df_netflix['date_added'].dt.strftime('%Y-%m-%d')\n",
    "\n",
    "df_amazon['date_added'] = pd.to_datetime(df_amazon['date_added'], errors='coerce')\n",
    "df_amazon['date_added'] = df_amazon['date_added'].dt.strftime('%Y-%m-%d')\n",
    "\n",
    "df_hulu['date_added'] = pd.to_datetime(df_hulu['date_added'], errors='coerce')\n",
    "df_hulu['date_added'] = df_hulu['date_added'].dt.strftime('%Y-%m-%d')\n",
    "\n",
    "df_disney['date_added'] = pd.to_datetime(df_disney['date_added'], errors='coerce')\n",
    "df_disney['date_added'] = df_disney['date_added'].dt.strftime('%Y-%m-%d')"
   ]
  },
  {
   "attachments": {},
   "cell_type": "markdown",
   "metadata": {},
   "source": [
    "separo la columna duration en dos: duration_type: season(temporada) y duration_int: min(minutos)"
   ]
  },
  {
   "cell_type": "code",
   "execution_count": 45,
   "metadata": {},
   "outputs": [],
   "source": [
    "\n",
    "# Convertir el campo 'duration' en dos campos: 'duration_int' y 'duration_type'\n",
    "df_netflix[['duration_int', 'duration_type']] = df_netflix['duration'].str.extract('(\\d+) (\\w+)')\n",
    "df_amazon[['duration_int', 'duration_type']] = df_amazon['duration'].str.extract('(\\d+) (\\w+)')\n",
    "df_hulu[['duration_int', 'duration_type']] = df_hulu['duration'].str.extract('(\\d+) (\\w+)')\n",
    "df_disney[['duration_int', 'duration_type']] = df_disney['duration'].str.extract('(\\d+) (\\w+)')\n",
    "\n",
    "# Reemplazar los valores no finitos (NA o inf) en 'duration_int' con NaN\n",
    "df_netflix['duration_int'] = df_netflix['duration_int'].replace(['NA', 'inf', '-inf'], np.nan)\n",
    "df_amazon['duration_int'] = df_amazon['duration_int'].replace(['NA', 'inf', '-inf'], np.nan)\n",
    "df_hulu['duration_int'] = df_hulu['duration_int'].replace(['NA', 'inf', '-inf'], np.nan)\n",
    "df_disney['duration_int'] = df_disney['duration_int'].replace(['NA', 'inf', '-inf'], np.nan)\n",
    "\n",
    "# Convertir el tipo de dato de 'duration_int' a entero (int)\n",
    "df_netflix['duration_int'] = pd.to_numeric(df_netflix['duration_int'], errors='coerce').astype('Int64')\n",
    "df_amazon['duration_int'] = pd.to_numeric(df_amazon['duration_int'], errors='coerce').astype('Int64')\n",
    "df_hulu['duration_int'] = pd.to_numeric(df_hulu['duration_int'], errors='coerce').astype('Int64')\n",
    "df_disney['duration_int'] = pd.to_numeric(df_disney['duration_int'], errors='coerce').astype('Int64')\n"
   ]
  },
  {
   "attachments": {},
   "cell_type": "markdown",
   "metadata": {},
   "source": [
    "funcion que recive df, columna y dato de origen y dato final a reeemplazar"
   ]
  },
  {
   "cell_type": "code",
   "execution_count": 46,
   "metadata": {},
   "outputs": [],
   "source": [
    "def reemplazar_duration_type(df, columna, valor_origen, valor_reemplazo):\n",
    "    df[columna] = df[columna].replace(valor_origen, valor_reemplazo)\n",
    "    return df"
   ]
  },
  {
   "attachments": {},
   "cell_type": "markdown",
   "metadata": {},
   "source": [
    "llamo a la funcion y reemplazo la palabra seasons de los df"
   ]
  },
  {
   "cell_type": "code",
   "execution_count": 47,
   "metadata": {},
   "outputs": [],
   "source": [
    "df_netflix = reemplazar_duration_type(df_netflix, 'duration_type', 'seasons', 'season')\n",
    "df_hulu = reemplazar_duration_type(df_hulu, 'duration_type', 'seasons', 'season')\n",
    "df_amazon = reemplazar_duration_type(df_amazon, 'duration_type', 'seasons', 'season')\n",
    "df_disney = reemplazar_duration_type(df_disney, 'duration_type', 'seasons', 'season')"
   ]
  },
  {
   "attachments": {},
   "cell_type": "markdown",
   "metadata": {},
   "source": [
    "reordeno las columnas quitando las que no quiero en el df final"
   ]
  },
  {
   "cell_type": "code",
   "execution_count": 48,
   "metadata": {},
   "outputs": [],
   "source": [
    "df_netflix = df_netflix[['id','type','title','director','cast','country','date_added','release_year','rating','duration_type', 'duration_int']]\n",
    "df_amazon = df_amazon[['id','type','title','director','cast','country','date_added','release_year','rating','duration_type', 'duration_int']]\n",
    "df_disney = df_disney[['id','type','title','director','cast','country','date_added','release_year','rating','duration_type', 'duration_int']]\n",
    "df_hulu = df_hulu[['id','type','title','director','cast','country','date_added','release_year','rating','duration_type', 'duration_int']]\n"
   ]
  },
  {
   "attachments": {},
   "cell_type": "markdown",
   "metadata": {},
   "source": [
    "concateno los distintos df para tener solo uno final"
   ]
  },
  {
   "cell_type": "code",
   "execution_count": 49,
   "metadata": {},
   "outputs": [],
   "source": [
    "# Concatenar los dataframes\n",
    "df_concat = pd.concat([df_netflix, df_hulu, df_disney, df_amazon], axis=0, ignore_index=True)\n"
   ]
  },
  {
   "attachments": {},
   "cell_type": "markdown",
   "metadata": {},
   "source": [
    "\n",
    "### visualizo - df_final\n"
   ]
  },
  {
   "cell_type": "code",
   "execution_count": 50,
   "metadata": {},
   "outputs": [
    {
     "data": {
      "text/html": [
       "<div>\n",
       "<style scoped>\n",
       "    .dataframe tbody tr th:only-of-type {\n",
       "        vertical-align: middle;\n",
       "    }\n",
       "\n",
       "    .dataframe tbody tr th {\n",
       "        vertical-align: top;\n",
       "    }\n",
       "\n",
       "    .dataframe thead th {\n",
       "        text-align: right;\n",
       "    }\n",
       "</style>\n",
       "<table border=\"1\" class=\"dataframe\">\n",
       "  <thead>\n",
       "    <tr style=\"text-align: right;\">\n",
       "      <th></th>\n",
       "      <th>id</th>\n",
       "      <th>type</th>\n",
       "      <th>title</th>\n",
       "      <th>director</th>\n",
       "      <th>cast</th>\n",
       "      <th>country</th>\n",
       "      <th>date_added</th>\n",
       "      <th>release_year</th>\n",
       "      <th>rating</th>\n",
       "      <th>duration_type</th>\n",
       "      <th>duration_int</th>\n",
       "    </tr>\n",
       "  </thead>\n",
       "  <tbody>\n",
       "    <tr>\n",
       "      <th>0</th>\n",
       "      <td>ns1</td>\n",
       "      <td>movie</td>\n",
       "      <td>dick johnson is dead</td>\n",
       "      <td>kirsten johnson</td>\n",
       "      <td>SinDato</td>\n",
       "      <td>united states</td>\n",
       "      <td>2021-09-25</td>\n",
       "      <td>2020</td>\n",
       "      <td>pg-13</td>\n",
       "      <td>min</td>\n",
       "      <td>90</td>\n",
       "    </tr>\n",
       "    <tr>\n",
       "      <th>1</th>\n",
       "      <td>ns2</td>\n",
       "      <td>tv show</td>\n",
       "      <td>blood &amp; water</td>\n",
       "      <td>SinDato</td>\n",
       "      <td>ama qamata, khosi ngema, gail mabalane, thaban...</td>\n",
       "      <td>south africa</td>\n",
       "      <td>2021-09-24</td>\n",
       "      <td>2021</td>\n",
       "      <td>tv-ma</td>\n",
       "      <td>season</td>\n",
       "      <td>2</td>\n",
       "    </tr>\n",
       "    <tr>\n",
       "      <th>2</th>\n",
       "      <td>ns3</td>\n",
       "      <td>tv show</td>\n",
       "      <td>ganglands</td>\n",
       "      <td>julien leclercq</td>\n",
       "      <td>sami bouajila, tracy gotoas, samuel jouy, nabi...</td>\n",
       "      <td>SinDato</td>\n",
       "      <td>2021-09-24</td>\n",
       "      <td>2021</td>\n",
       "      <td>tv-ma</td>\n",
       "      <td>season</td>\n",
       "      <td>1</td>\n",
       "    </tr>\n",
       "    <tr>\n",
       "      <th>3</th>\n",
       "      <td>ns4</td>\n",
       "      <td>tv show</td>\n",
       "      <td>jailbirds new orleans</td>\n",
       "      <td>SinDato</td>\n",
       "      <td>SinDato</td>\n",
       "      <td>SinDato</td>\n",
       "      <td>2021-09-24</td>\n",
       "      <td>2021</td>\n",
       "      <td>tv-ma</td>\n",
       "      <td>season</td>\n",
       "      <td>1</td>\n",
       "    </tr>\n",
       "    <tr>\n",
       "      <th>4</th>\n",
       "      <td>ns5</td>\n",
       "      <td>tv show</td>\n",
       "      <td>kota factory</td>\n",
       "      <td>SinDato</td>\n",
       "      <td>mayur more, jitendra kumar, ranjan raj, alam k...</td>\n",
       "      <td>india</td>\n",
       "      <td>2021-09-24</td>\n",
       "      <td>2021</td>\n",
       "      <td>tv-ma</td>\n",
       "      <td>season</td>\n",
       "      <td>2</td>\n",
       "    </tr>\n",
       "  </tbody>\n",
       "</table>\n",
       "</div>"
      ],
      "text/plain": [
       "    id     type                  title         director  \\\n",
       "0  ns1    movie   dick johnson is dead  kirsten johnson   \n",
       "1  ns2  tv show          blood & water          SinDato   \n",
       "2  ns3  tv show              ganglands  julien leclercq   \n",
       "3  ns4  tv show  jailbirds new orleans          SinDato   \n",
       "4  ns5  tv show           kota factory          SinDato   \n",
       "\n",
       "                                                cast        country  \\\n",
       "0                                            SinDato  united states   \n",
       "1  ama qamata, khosi ngema, gail mabalane, thaban...   south africa   \n",
       "2  sami bouajila, tracy gotoas, samuel jouy, nabi...        SinDato   \n",
       "3                                            SinDato        SinDato   \n",
       "4  mayur more, jitendra kumar, ranjan raj, alam k...          india   \n",
       "\n",
       "   date_added  release_year rating duration_type  duration_int  \n",
       "0  2021-09-25          2020  pg-13           min            90  \n",
       "1  2021-09-24          2021  tv-ma        season             2  \n",
       "2  2021-09-24          2021  tv-ma        season             1  \n",
       "3  2021-09-24          2021  tv-ma        season             1  \n",
       "4  2021-09-24          2021  tv-ma        season             2  "
      ]
     },
     "execution_count": 50,
     "metadata": {},
     "output_type": "execute_result"
    }
   ],
   "source": [
    "df_concat.head()"
   ]
  },
  {
   "cell_type": "code",
   "execution_count": 51,
   "metadata": {},
   "outputs": [
    {
     "name": "stdout",
     "output_type": "stream",
     "text": [
      "<class 'pandas.core.frame.DataFrame'>\n",
      "RangeIndex: 22998 entries, 0 to 22997\n",
      "Data columns (total 11 columns):\n",
      " #   Column         Non-Null Count  Dtype \n",
      "---  ------         --------------  ----- \n",
      " 0   id             22998 non-null  object\n",
      " 1   type           22998 non-null  object\n",
      " 2   title          22998 non-null  object\n",
      " 3   director       22998 non-null  object\n",
      " 4   cast           22998 non-null  object\n",
      " 5   country        22998 non-null  object\n",
      " 6   date_added     13444 non-null  object\n",
      " 7   release_year   22998 non-null  int64 \n",
      " 8   rating         22998 non-null  object\n",
      " 9   duration_type  22516 non-null  object\n",
      " 10  duration_int   22516 non-null  Int64 \n",
      "dtypes: Int64(1), int64(1), object(9)\n",
      "memory usage: 2.0+ MB\n"
     ]
    }
   ],
   "source": [
    "df_concat.info()"
   ]
  },
  {
   "cell_type": "code",
   "execution_count": 52,
   "metadata": {},
   "outputs": [
    {
     "data": {
      "text/html": [
       "<div>\n",
       "<style scoped>\n",
       "    .dataframe tbody tr th:only-of-type {\n",
       "        vertical-align: middle;\n",
       "    }\n",
       "\n",
       "    .dataframe tbody tr th {\n",
       "        vertical-align: top;\n",
       "    }\n",
       "\n",
       "    .dataframe thead th {\n",
       "        text-align: right;\n",
       "    }\n",
       "</style>\n",
       "<table border=\"1\" class=\"dataframe\">\n",
       "  <thead>\n",
       "    <tr style=\"text-align: right;\">\n",
       "      <th></th>\n",
       "      <th>release_year</th>\n",
       "      <th>duration_int</th>\n",
       "    </tr>\n",
       "  </thead>\n",
       "  <tbody>\n",
       "    <tr>\n",
       "      <th>count</th>\n",
       "      <td>22998.000000</td>\n",
       "      <td>22516.0</td>\n",
       "    </tr>\n",
       "    <tr>\n",
       "      <th>mean</th>\n",
       "      <td>2010.811244</td>\n",
       "      <td>67.11725</td>\n",
       "    </tr>\n",
       "    <tr>\n",
       "      <th>std</th>\n",
       "      <td>15.401142</td>\n",
       "      <td>51.40163</td>\n",
       "    </tr>\n",
       "    <tr>\n",
       "      <th>min</th>\n",
       "      <td>1920.000000</td>\n",
       "      <td>0.0</td>\n",
       "    </tr>\n",
       "    <tr>\n",
       "      <th>25%</th>\n",
       "      <td>2010.000000</td>\n",
       "      <td>3.0</td>\n",
       "    </tr>\n",
       "    <tr>\n",
       "      <th>50%</th>\n",
       "      <td>2016.000000</td>\n",
       "      <td>85.0</td>\n",
       "    </tr>\n",
       "    <tr>\n",
       "      <th>75%</th>\n",
       "      <td>2019.000000</td>\n",
       "      <td>102.0</td>\n",
       "    </tr>\n",
       "    <tr>\n",
       "      <th>max</th>\n",
       "      <td>2021.000000</td>\n",
       "      <td>601.0</td>\n",
       "    </tr>\n",
       "  </tbody>\n",
       "</table>\n",
       "</div>"
      ],
      "text/plain": [
       "       release_year  duration_int\n",
       "count  22998.000000       22516.0\n",
       "mean    2010.811244      67.11725\n",
       "std       15.401142      51.40163\n",
       "min     1920.000000           0.0\n",
       "25%     2010.000000           3.0\n",
       "50%     2016.000000          85.0\n",
       "75%     2019.000000         102.0\n",
       "max     2021.000000         601.0"
      ]
     },
     "execution_count": 52,
     "metadata": {},
     "output_type": "execute_result"
    }
   ],
   "source": [
    "df_concat.describe()"
   ]
  },
  {
   "attachments": {},
   "cell_type": "markdown",
   "metadata": {},
   "source": [
    "#### Importar DataFrame de ratings"
   ]
  },
  {
   "cell_type": "code",
   "execution_count": 53,
   "metadata": {},
   "outputs": [
    {
     "data": {
      "text/html": [
       "<div>\n",
       "<style scoped>\n",
       "    .dataframe tbody tr th:only-of-type {\n",
       "        vertical-align: middle;\n",
       "    }\n",
       "\n",
       "    .dataframe tbody tr th {\n",
       "        vertical-align: top;\n",
       "    }\n",
       "\n",
       "    .dataframe thead th {\n",
       "        text-align: right;\n",
       "    }\n",
       "</style>\n",
       "<table border=\"1\" class=\"dataframe\">\n",
       "  <thead>\n",
       "    <tr style=\"text-align: right;\">\n",
       "      <th></th>\n",
       "      <th>userId</th>\n",
       "      <th>score</th>\n",
       "      <th>timestamp</th>\n",
       "      <th>movieId</th>\n",
       "    </tr>\n",
       "  </thead>\n",
       "  <tbody>\n",
       "    <tr>\n",
       "      <th>0</th>\n",
       "      <td>1</td>\n",
       "      <td>1.0</td>\n",
       "      <td>2015-03-09</td>\n",
       "      <td>as680</td>\n",
       "    </tr>\n",
       "    <tr>\n",
       "      <th>1</th>\n",
       "      <td>1</td>\n",
       "      <td>4.5</td>\n",
       "      <td>2015-03-09</td>\n",
       "      <td>ns2186</td>\n",
       "    </tr>\n",
       "    <tr>\n",
       "      <th>2</th>\n",
       "      <td>1</td>\n",
       "      <td>5.0</td>\n",
       "      <td>2015-03-09</td>\n",
       "      <td>hs2381</td>\n",
       "    </tr>\n",
       "    <tr>\n",
       "      <th>3</th>\n",
       "      <td>1</td>\n",
       "      <td>5.0</td>\n",
       "      <td>2015-03-09</td>\n",
       "      <td>ns3663</td>\n",
       "    </tr>\n",
       "    <tr>\n",
       "      <th>4</th>\n",
       "      <td>1</td>\n",
       "      <td>5.0</td>\n",
       "      <td>2015-03-09</td>\n",
       "      <td>as9500</td>\n",
       "    </tr>\n",
       "  </tbody>\n",
       "</table>\n",
       "</div>"
      ],
      "text/plain": [
       "   userId  score   timestamp movieId\n",
       "0       1    1.0  2015-03-09   as680\n",
       "1       1    4.5  2015-03-09  ns2186\n",
       "2       1    5.0  2015-03-09  hs2381\n",
       "3       1    5.0  2015-03-09  ns3663\n",
       "4       1    5.0  2015-03-09  as9500"
      ]
     },
     "execution_count": 53,
     "metadata": {},
     "output_type": "execute_result"
    }
   ],
   "source": [
    "ratings = pd.read_csv('../csvs/ratings/ratings_final.csv')\n",
    "ratings.head()"
   ]
  },
  {
   "cell_type": "code",
   "execution_count": 54,
   "metadata": {},
   "outputs": [],
   "source": [
    "# Agrupamos por 'movieId' y calculamos el promedio de las calificaciones\n",
    "ratings = ratings.groupby('movieId').agg({'score': 'mean'}).to_dict()['score']\n"
   ]
  },
  {
   "cell_type": "code",
   "execution_count": 55,
   "metadata": {},
   "outputs": [],
   "source": [
    "# Unimos el dataframe de películas con el de ratings promedio, usando el campo 'id' como clave\n",
    "df_concat['score'] = df_concat['id'].map(ratings)"
   ]
  },
  {
   "cell_type": "code",
   "execution_count": 56,
   "metadata": {},
   "outputs": [
    {
     "data": {
      "text/plain": [
       "0        3.611111\n",
       "1        3.552632\n",
       "2        3.597938\n",
       "3        3.561616\n",
       "4        3.593023\n",
       "           ...   \n",
       "22993    3.620915\n",
       "22994    3.553215\n",
       "22995    3.541750\n",
       "22996    3.555102\n",
       "22997    3.521739\n",
       "Name: score, Length: 22998, dtype: float64"
      ]
     },
     "execution_count": 56,
     "metadata": {},
     "output_type": "execute_result"
    }
   ],
   "source": [
    "df_concat['score']"
   ]
  },
  {
   "cell_type": "code",
   "execution_count": 57,
   "metadata": {},
   "outputs": [
    {
     "data": {
      "text/html": [
       "<div>\n",
       "<style scoped>\n",
       "    .dataframe tbody tr th:only-of-type {\n",
       "        vertical-align: middle;\n",
       "    }\n",
       "\n",
       "    .dataframe tbody tr th {\n",
       "        vertical-align: top;\n",
       "    }\n",
       "\n",
       "    .dataframe thead th {\n",
       "        text-align: right;\n",
       "    }\n",
       "</style>\n",
       "<table border=\"1\" class=\"dataframe\">\n",
       "  <thead>\n",
       "    <tr style=\"text-align: right;\">\n",
       "      <th></th>\n",
       "      <th>id</th>\n",
       "      <th>type</th>\n",
       "      <th>title</th>\n",
       "      <th>director</th>\n",
       "      <th>cast</th>\n",
       "      <th>country</th>\n",
       "      <th>date_added</th>\n",
       "      <th>release_year</th>\n",
       "      <th>rating</th>\n",
       "      <th>duration_type</th>\n",
       "      <th>duration_int</th>\n",
       "      <th>score</th>\n",
       "    </tr>\n",
       "  </thead>\n",
       "  <tbody>\n",
       "    <tr>\n",
       "      <th>0</th>\n",
       "      <td>ns1</td>\n",
       "      <td>movie</td>\n",
       "      <td>dick johnson is dead</td>\n",
       "      <td>kirsten johnson</td>\n",
       "      <td>SinDato</td>\n",
       "      <td>united states</td>\n",
       "      <td>2021-09-25</td>\n",
       "      <td>2020</td>\n",
       "      <td>pg-13</td>\n",
       "      <td>min</td>\n",
       "      <td>90</td>\n",
       "      <td>3.611111</td>\n",
       "    </tr>\n",
       "    <tr>\n",
       "      <th>1</th>\n",
       "      <td>ns2</td>\n",
       "      <td>tv show</td>\n",
       "      <td>blood &amp; water</td>\n",
       "      <td>SinDato</td>\n",
       "      <td>ama qamata, khosi ngema, gail mabalane, thaban...</td>\n",
       "      <td>south africa</td>\n",
       "      <td>2021-09-24</td>\n",
       "      <td>2021</td>\n",
       "      <td>tv-ma</td>\n",
       "      <td>season</td>\n",
       "      <td>2</td>\n",
       "      <td>3.552632</td>\n",
       "    </tr>\n",
       "    <tr>\n",
       "      <th>2</th>\n",
       "      <td>ns3</td>\n",
       "      <td>tv show</td>\n",
       "      <td>ganglands</td>\n",
       "      <td>julien leclercq</td>\n",
       "      <td>sami bouajila, tracy gotoas, samuel jouy, nabi...</td>\n",
       "      <td>SinDato</td>\n",
       "      <td>2021-09-24</td>\n",
       "      <td>2021</td>\n",
       "      <td>tv-ma</td>\n",
       "      <td>season</td>\n",
       "      <td>1</td>\n",
       "      <td>3.597938</td>\n",
       "    </tr>\n",
       "    <tr>\n",
       "      <th>3</th>\n",
       "      <td>ns4</td>\n",
       "      <td>tv show</td>\n",
       "      <td>jailbirds new orleans</td>\n",
       "      <td>SinDato</td>\n",
       "      <td>SinDato</td>\n",
       "      <td>SinDato</td>\n",
       "      <td>2021-09-24</td>\n",
       "      <td>2021</td>\n",
       "      <td>tv-ma</td>\n",
       "      <td>season</td>\n",
       "      <td>1</td>\n",
       "      <td>3.561616</td>\n",
       "    </tr>\n",
       "    <tr>\n",
       "      <th>4</th>\n",
       "      <td>ns5</td>\n",
       "      <td>tv show</td>\n",
       "      <td>kota factory</td>\n",
       "      <td>SinDato</td>\n",
       "      <td>mayur more, jitendra kumar, ranjan raj, alam k...</td>\n",
       "      <td>india</td>\n",
       "      <td>2021-09-24</td>\n",
       "      <td>2021</td>\n",
       "      <td>tv-ma</td>\n",
       "      <td>season</td>\n",
       "      <td>2</td>\n",
       "      <td>3.593023</td>\n",
       "    </tr>\n",
       "  </tbody>\n",
       "</table>\n",
       "</div>"
      ],
      "text/plain": [
       "    id     type                  title         director  \\\n",
       "0  ns1    movie   dick johnson is dead  kirsten johnson   \n",
       "1  ns2  tv show          blood & water          SinDato   \n",
       "2  ns3  tv show              ganglands  julien leclercq   \n",
       "3  ns4  tv show  jailbirds new orleans          SinDato   \n",
       "4  ns5  tv show           kota factory          SinDato   \n",
       "\n",
       "                                                cast        country  \\\n",
       "0                                            SinDato  united states   \n",
       "1  ama qamata, khosi ngema, gail mabalane, thaban...   south africa   \n",
       "2  sami bouajila, tracy gotoas, samuel jouy, nabi...        SinDato   \n",
       "3                                            SinDato        SinDato   \n",
       "4  mayur more, jitendra kumar, ranjan raj, alam k...          india   \n",
       "\n",
       "   date_added  release_year rating duration_type  duration_int     score  \n",
       "0  2021-09-25          2020  pg-13           min            90  3.611111  \n",
       "1  2021-09-24          2021  tv-ma        season             2  3.552632  \n",
       "2  2021-09-24          2021  tv-ma        season             1  3.597938  \n",
       "3  2021-09-24          2021  tv-ma        season             1  3.561616  \n",
       "4  2021-09-24          2021  tv-ma        season             2  3.593023  "
      ]
     },
     "execution_count": 57,
     "metadata": {},
     "output_type": "execute_result"
    }
   ],
   "source": [
    "df_concat.head()"
   ]
  },
  {
   "cell_type": "code",
   "execution_count": 58,
   "metadata": {},
   "outputs": [
    {
     "data": {
      "text/html": [
       "<div>\n",
       "<style scoped>\n",
       "    .dataframe tbody tr th:only-of-type {\n",
       "        vertical-align: middle;\n",
       "    }\n",
       "\n",
       "    .dataframe tbody tr th {\n",
       "        vertical-align: top;\n",
       "    }\n",
       "\n",
       "    .dataframe thead th {\n",
       "        text-align: right;\n",
       "    }\n",
       "</style>\n",
       "<table border=\"1\" class=\"dataframe\">\n",
       "  <thead>\n",
       "    <tr style=\"text-align: right;\">\n",
       "      <th></th>\n",
       "      <th>release_year</th>\n",
       "      <th>duration_int</th>\n",
       "      <th>score</th>\n",
       "    </tr>\n",
       "  </thead>\n",
       "  <tbody>\n",
       "    <tr>\n",
       "      <th>count</th>\n",
       "      <td>22998.000000</td>\n",
       "      <td>22516.0</td>\n",
       "      <td>22998.000000</td>\n",
       "    </tr>\n",
       "    <tr>\n",
       "      <th>mean</th>\n",
       "      <td>2010.811244</td>\n",
       "      <td>67.11725</td>\n",
       "      <td>3.533443</td>\n",
       "    </tr>\n",
       "    <tr>\n",
       "      <th>std</th>\n",
       "      <td>15.401142</td>\n",
       "      <td>51.40163</td>\n",
       "      <td>0.048564</td>\n",
       "    </tr>\n",
       "    <tr>\n",
       "      <th>min</th>\n",
       "      <td>1920.000000</td>\n",
       "      <td>0.0</td>\n",
       "      <td>3.336478</td>\n",
       "    </tr>\n",
       "    <tr>\n",
       "      <th>25%</th>\n",
       "      <td>2010.000000</td>\n",
       "      <td>3.0</td>\n",
       "      <td>3.500000</td>\n",
       "    </tr>\n",
       "    <tr>\n",
       "      <th>50%</th>\n",
       "      <td>2016.000000</td>\n",
       "      <td>85.0</td>\n",
       "      <td>3.533673</td>\n",
       "    </tr>\n",
       "    <tr>\n",
       "      <th>75%</th>\n",
       "      <td>2019.000000</td>\n",
       "      <td>102.0</td>\n",
       "      <td>3.567000</td>\n",
       "    </tr>\n",
       "    <tr>\n",
       "      <th>max</th>\n",
       "      <td>2021.000000</td>\n",
       "      <td>601.0</td>\n",
       "      <td>3.724512</td>\n",
       "    </tr>\n",
       "  </tbody>\n",
       "</table>\n",
       "</div>"
      ],
      "text/plain": [
       "       release_year  duration_int         score\n",
       "count  22998.000000       22516.0  22998.000000\n",
       "mean    2010.811244      67.11725      3.533443\n",
       "std       15.401142      51.40163      0.048564\n",
       "min     1920.000000           0.0      3.336478\n",
       "25%     2010.000000           3.0      3.500000\n",
       "50%     2016.000000          85.0      3.533673\n",
       "75%     2019.000000         102.0      3.567000\n",
       "max     2021.000000         601.0      3.724512"
      ]
     },
     "execution_count": 58,
     "metadata": {},
     "output_type": "execute_result"
    }
   ],
   "source": [
    "df_concat.describe()"
   ]
  },
  {
   "cell_type": "code",
   "execution_count": 59,
   "metadata": {},
   "outputs": [
    {
     "name": "stdout",
     "output_type": "stream",
     "text": [
      "<class 'pandas.core.frame.DataFrame'>\n",
      "RangeIndex: 22998 entries, 0 to 22997\n",
      "Data columns (total 12 columns):\n",
      " #   Column         Non-Null Count  Dtype  \n",
      "---  ------         --------------  -----  \n",
      " 0   id             22998 non-null  object \n",
      " 1   type           22998 non-null  object \n",
      " 2   title          22998 non-null  object \n",
      " 3   director       22998 non-null  object \n",
      " 4   cast           22998 non-null  object \n",
      " 5   country        22998 non-null  object \n",
      " 6   date_added     13444 non-null  object \n",
      " 7   release_year   22998 non-null  int64  \n",
      " 8   rating         22998 non-null  object \n",
      " 9   duration_type  22516 non-null  object \n",
      " 10  duration_int   22516 non-null  Int64  \n",
      " 11  score          22998 non-null  float64\n",
      "dtypes: Int64(1), float64(1), int64(1), object(9)\n",
      "memory usage: 2.1+ MB\n"
     ]
    }
   ],
   "source": [
    "df_concat.info()"
   ]
  },
  {
   "cell_type": "code",
   "execution_count": 60,
   "metadata": {},
   "outputs": [],
   "source": [
    "#reemplaza valores NaN por cero \n",
    "df_concat['duration_int'] = df_concat['duration_int'].fillna(0)"
   ]
  },
  {
   "cell_type": "code",
   "execution_count": 61,
   "metadata": {},
   "outputs": [],
   "source": [
    "df_concat.to_csv('../csvs/peliculas/peliculas_final.csv', sep=',', index=False)"
   ]
  }
 ],
 "metadata": {
  "kernelspec": {
   "display_name": "Python 3",
   "language": "python",
   "name": "python3"
  },
  "language_info": {
   "codemirror_mode": {
    "name": "ipython",
    "version": 3
   },
   "file_extension": ".py",
   "mimetype": "text/x-python",
   "name": "python",
   "nbconvert_exporter": "python",
   "pygments_lexer": "ipython3",
   "version": "3.11.2"
  },
  "orig_nbformat": 4
 },
 "nbformat": 4,
 "nbformat_minor": 2
}
