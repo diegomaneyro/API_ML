{
  "cells": [
    {
      "attachments": {},
      "cell_type": "markdown",
      "metadata": {
        "id": "QB5eyErCR8PM"
      },
      "source": [
        "$$\n",
        "Entrenamiento\n",
        "$$"
      ]
    },
    {
      "cell_type": "code",
      "execution_count": 1,
      "metadata": {
        "id": "ENeMbayfhFIi"
      },
      "outputs": [],
      "source": [
        "# importar librerias necesarias\n",
        "from surprise import Dataset, Reader, SVD\n",
        "from surprise import dump\n",
        "from surprise.model_selection import train_test_split\n",
        "import matplotlib.pyplot as plt\n",
        "import pandas as pd"
      ]
    },
    {
      "cell_type": "code",
      "execution_count": 2,
      "metadata": {
        "id": "JFpQzz7xchrI"
      },
      "outputs": [],
      "source": [
        "#importar datos\n",
        "df_movie = pd.read_csv(\"../datos/csvs/peliculas/peliculas_final.csv\", sep=',', usecols=['id','title'])\n",
        "df_scores = pd.read_csv(\"../datos/csvs/ratings/ratings_final.csv\", sep=',', usecols=['userId','score','movieId'])\n",
        "df_movie = df_movie.reset_index(drop=True)"
      ]
    },
    {
      "cell_type": "code",
      "execution_count": 2,
      "metadata": {
        "colab": {
          "base_uri": "https://localhost:8080/",
          "height": 206
        },
        "id": "oPgZf3iFhXCC",
        "outputId": "ee4c985b-94bd-4739-ebec-7c1ecc182b0d"
      },
      "outputs": [
        {
          "data": {
            "text/html": [
              "<div>\n",
              "<style scoped>\n",
              "    .dataframe tbody tr th:only-of-type {\n",
              "        vertical-align: middle;\n",
              "    }\n",
              "\n",
              "    .dataframe tbody tr th {\n",
              "        vertical-align: top;\n",
              "    }\n",
              "\n",
              "    .dataframe thead th {\n",
              "        text-align: right;\n",
              "    }\n",
              "</style>\n",
              "<table border=\"1\" class=\"dataframe\">\n",
              "  <thead>\n",
              "    <tr style=\"text-align: right;\">\n",
              "      <th></th>\n",
              "      <th>id</th>\n",
              "      <th>title</th>\n",
              "    </tr>\n",
              "  </thead>\n",
              "  <tbody>\n",
              "    <tr>\n",
              "      <th>0</th>\n",
              "      <td>ns1</td>\n",
              "      <td>dick johnson is dead</td>\n",
              "    </tr>\n",
              "    <tr>\n",
              "      <th>1</th>\n",
              "      <td>ns2</td>\n",
              "      <td>blood &amp; water</td>\n",
              "    </tr>\n",
              "    <tr>\n",
              "      <th>2</th>\n",
              "      <td>ns3</td>\n",
              "      <td>ganglands</td>\n",
              "    </tr>\n",
              "    <tr>\n",
              "      <th>3</th>\n",
              "      <td>ns4</td>\n",
              "      <td>jailbirds new orleans</td>\n",
              "    </tr>\n",
              "    <tr>\n",
              "      <th>4</th>\n",
              "      <td>ns5</td>\n",
              "      <td>kota factory</td>\n",
              "    </tr>\n",
              "  </tbody>\n",
              "</table>\n",
              "</div>"
            ],
            "text/plain": [
              "    id                  title\n",
              "0  ns1   dick johnson is dead\n",
              "1  ns2          blood & water\n",
              "2  ns3              ganglands\n",
              "3  ns4  jailbirds new orleans\n",
              "4  ns5           kota factory"
            ]
          },
          "execution_count": 2,
          "metadata": {},
          "output_type": "execute_result"
        }
      ],
      "source": [
        "# visualizar peliculas\n",
        "df_movie.head()"
      ]
    },
    {
      "cell_type": "code",
      "execution_count": 3,
      "metadata": {
        "colab": {
          "base_uri": "https://localhost:8080/",
          "height": 206
        },
        "id": "rCRSGfrvhdAP",
        "outputId": "ec0c654b-fdd7-4743-ac4e-28a96b48f37f"
      },
      "outputs": [
        {
          "data": {
            "text/html": [
              "<div>\n",
              "<style scoped>\n",
              "    .dataframe tbody tr th:only-of-type {\n",
              "        vertical-align: middle;\n",
              "    }\n",
              "\n",
              "    .dataframe tbody tr th {\n",
              "        vertical-align: top;\n",
              "    }\n",
              "\n",
              "    .dataframe thead th {\n",
              "        text-align: right;\n",
              "    }\n",
              "</style>\n",
              "<table border=\"1\" class=\"dataframe\">\n",
              "  <thead>\n",
              "    <tr style=\"text-align: right;\">\n",
              "      <th></th>\n",
              "      <th>userId</th>\n",
              "      <th>score</th>\n",
              "      <th>movieId</th>\n",
              "    </tr>\n",
              "  </thead>\n",
              "  <tbody>\n",
              "    <tr>\n",
              "      <th>0</th>\n",
              "      <td>1</td>\n",
              "      <td>1.0</td>\n",
              "      <td>as680</td>\n",
              "    </tr>\n",
              "    <tr>\n",
              "      <th>1</th>\n",
              "      <td>1</td>\n",
              "      <td>4.5</td>\n",
              "      <td>ns2186</td>\n",
              "    </tr>\n",
              "    <tr>\n",
              "      <th>2</th>\n",
              "      <td>1</td>\n",
              "      <td>5.0</td>\n",
              "      <td>hs2381</td>\n",
              "    </tr>\n",
              "    <tr>\n",
              "      <th>3</th>\n",
              "      <td>1</td>\n",
              "      <td>5.0</td>\n",
              "      <td>ns3663</td>\n",
              "    </tr>\n",
              "    <tr>\n",
              "      <th>4</th>\n",
              "      <td>1</td>\n",
              "      <td>5.0</td>\n",
              "      <td>as9500</td>\n",
              "    </tr>\n",
              "  </tbody>\n",
              "</table>\n",
              "</div>"
            ],
            "text/plain": [
              "   userId  score movieId\n",
              "0       1    1.0   as680\n",
              "1       1    4.5  ns2186\n",
              "2       1    5.0  hs2381\n",
              "3       1    5.0  ns3663\n",
              "4       1    5.0  as9500"
            ]
          },
          "execution_count": 3,
          "metadata": {},
          "output_type": "execute_result"
        }
      ],
      "source": [
        "# visualizar los ratings de peliculas por usuario\n",
        "df_scores.head()"
      ]
    },
    {
      "attachments": {},
      "cell_type": "markdown",
      "metadata": {},
      "source": [
        "Documentación Entrenamiento de Modelo"
      ]
    },
    {
      "attachments": {},
      "cell_type": "markdown",
      "metadata": {},
      "source": [
        "## Código para entrenar y guardar un modelo SVD\n",
        "\n",
        "El siguiente código utiliza la biblioteca Surprise para entrenar un modelo SVD (Singular Value Decomposition) en un conjunto de datos de películas y calificaciones. El modelo entrenado se guarda en un archivo pkl para su uso posterior.\n",
        "\n",
        "### Paso 1: Importar las bibliotecas necesarias\n",
        "Se importan las bibliotecas necesarias, incluyendo `dump` de Surprise, que se utiliza para guardar el modelo entrenado.\n",
        "\n",
        "### Paso 2: Importar los datos\n",
        "Se importan los datos de películas y calificaciones desde archivos CSV. El DataFrame `df_movie` contiene información sobre las películas, mientras que `df_scores` contiene las calificaciones de los usuarios para cada película.\n",
        "\n",
        "### Paso 3: Crear un objeto Reader\n",
        "Se crea un objeto Reader que se utilizará para analizar los datos de entrada. Se especifica la escala de calificación entre 1.0 y 5.0.\n",
        "\n",
        "### Paso 4: Limitar los datos y crear el conjunto de datos\n",
        "Para evitar el sobreajuste durante el entrenamiento, se limita la cantidad de datos a utilizar. Se carga el conjunto de datos a partir de las columnas relevantes en el DataFrame `df_scores` utilizando el objeto Reader creado anteriormente.\n",
        "\n",
        "### Paso 5: Dividir los datos en conjuntos de entrenamiento y prueba\n",
        "Se dividen los datos en conjuntos de entrenamiento y prueba utilizando la función `train_test_split` de Surprise. Se utiliza un tamaño de prueba del 30% y se fija una semilla aleatoria para reproducibilidad.\n",
        "\n",
        "### Paso 6: Entrenar un modelo SVD\n",
        "Se crea una instancia del modelo SVD con los parámetros especificados, como el número de factores latentes, el número de épocas, la tasa de aprendizaje y la regularización. El modelo se entrena utilizando el conjunto de entrenamiento.\n",
        "\n",
        "### Paso 7: Guardar el modelo entrenado en un archivo\n",
        "Se guarda el modelo entrenado en un archivo pkl utilizando la función `dump` de Surprise. El nombre del archivo se especifica como 'modelo_entrenado.pkl'.\n",
        "\n",
        "Este código permite entrenar un modelo SVD en un conjunto de datos de películas y calificaciones, y guardar el modelo entrenado para su uso posterior."
      ]
    },
    {
      "attachments": {},
      "cell_type": "markdown",
      "metadata": {},
      "source": [
        "optimizado con reduccion de tiempo y exportar modelo"
      ]
    },
    {
      "cell_type": "code",
      "execution_count": 3,
      "metadata": {},
      "outputs": [],
      "source": [
        "from surprise import dump\n",
        "\n",
        "# importar librerias necesarias\n",
        "from surprise import Dataset, Reader, SVD\n",
        "from surprise.model_selection import train_test_split\n",
        "import pandas as pd\n",
        "\n",
        "# importar datos\n",
        "df_movie = pd.read_csv(\"../datos/csvs/peliculas/peliculas_final.csv\", sep=',', usecols=['id', 'title'])\n",
        "df_scores = pd.read_csv(\"../datos/csvs/ratings/ratings_final.csv\", sep=',', usecols=['userId', 'score', 'movieId'])\n",
        "df_movie = df_movie.reset_index(drop=True)\n",
        "\n",
        "# Crear un objeto Reader para analizar los datos de entrada\n",
        "reader = Reader(rating_scale=(1.0, 5.0))\n",
        "\n",
        "# Limitar los datos para evitar overfitting durante el aprendizaje\n",
        "limite = 205000\n",
        "data = Dataset.load_from_df(df_scores[['userId', 'movieId', 'score']][:limite], reader)\n",
        "\n",
        "# Dividir los datos en conjuntos de entrenamiento y prueba\n",
        "trainset, testset = train_test_split(data, test_size=0.3, random_state=42)\n",
        "\n",
        "# Entrenar un modelo SVD\n",
        "n_factors = 30\n",
        "n_epochs = 80\n",
        "lr_all = 0.005\n",
        "reg_all = 0.02\n",
        "model = SVD(n_factors=n_factors, lr_all=lr_all, reg_all=reg_all, n_epochs=n_epochs)\n",
        "model.fit(trainset)\n",
        "\n",
        "# Guardar el modelo entrenado en un archivo\n",
        "model_file = 'modelo_entrenado.pkl'\n",
        "dump.dump(model_file, algo=model)\n"
      ]
    },
    {
      "attachments": {},
      "cell_type": "markdown",
      "metadata": {},
      "source": [
        "### Función `obtener_peliculas_recomendadas(user_id)`\n",
        "\n",
        "Esta función utiliza un modelo entrenado previamente y un conjunto de datos de películas y calificaciones para recomendar películas para un usuario específico. Toma como entrada el `user_id` del usuario para el que se desean obtener las recomendaciones y devuelve una lista de títulos de películas recomendadas que el usuario aún no ha visto.\n",
        "\n",
        "### Parámetros:\n",
        "- `user_id` (int): El ID del usuario para el que se desean obtener las recomendaciones de películas.\n",
        "\n",
        "### Retorno:\n",
        "- `recommended_movies_titles` (list): Una lista de títulos de películas recomendadas para el usuario especificado.\n",
        "\n",
        "### Pasos del proceso:\n",
        "1. Cargar el modelo entrenado desde un archivo pkl previamente exportado.\n",
        "2. Obtener las películas que el usuario ha visto previamente.\n",
        "3. Generar una lista de películas no vistas por el usuario basada en las calificaciones existentes.\n",
        "4. Utilizar el modelo cargado para hacer predicciones sobre las películas no vistas.\n",
        "5. Ordenar las predicciones en orden descendente de las estimaciones de calificación.\n",
        "6. Obtener los ID de las películas recomendadas.\n",
        "7. Obtener los títulos de las películas recomendadas a partir del conjunto de datos de películas y calificaciones.\n",
        "8. Filtrar las películas recomendadas para incluir solo aquellas que el usuario no ha visto previamente.\n",
        "9. Devolver la lista de títulos de películas recomendadas para el usuario.\n",
        "\n",
        "## Interfaz de Gradio para mostrar las películas recomendadas\n",
        "\n",
        "La interfaz de Gradio permite mostrar la lista de películas recomendadas para un usuario específico. Toma el `user_id` como entrada y muestra los resultados en un campo de texto.\n",
        "\n",
        "### Funcionamiento:\n",
        "1. La interfaz solicita al usuario que ingrese el `user_id`.\n",
        "2. La función `interfaz_peliculas_recomendadas` se ejecuta con el `user_id` proporcionado como entrada.\n",
        "3. La función llama a la función `obtener_peliculas_recomendadas` para obtener la lista de 5 películas recomendadas para el usuario.\n",
        "4. Si no hay películas recomendadas en ese momento o el usuario ya ha visto todas las películas recomendadas, se muestra un mensaje correspondiente.\n",
        "5. Si hay películas recomendadas que el usuario no ha visto, se muestra la lista de títulos de películas recomendadas.\n",
        "\n",
        "La interfaz de Gradio proporciona una manera interactiva para que los usuarios ingresen su ID y obtengan recomendaciones personalizadas de películas."
      ]
    },
    {
      "cell_type": "code",
      "execution_count": 4,
      "metadata": {},
      "outputs": [
        {
          "name": "stdout",
          "output_type": "stream",
          "text": [
            "Running on local URL:  http://127.0.0.1:7861\n",
            "\n",
            "To create a public link, set `share=True` in `launch()`.\n"
          ]
        },
        {
          "data": {
            "text/html": [
              "<div><iframe src=\"http://127.0.0.1:7861/\" width=\"100%\" height=\"500\" allow=\"autoplay; camera; microphone; clipboard-read; clipboard-write;\" frameborder=\"0\" allowfullscreen></iframe></div>"
            ],
            "text/plain": [
              "<IPython.core.display.HTML object>"
            ]
          },
          "metadata": {},
          "output_type": "display_data"
        },
        {
          "data": {
            "text/plain": []
          },
          "execution_count": 4,
          "metadata": {},
          "output_type": "execute_result"
        }
      ],
      "source": [
        "import gradio as gr\n",
        "from surprise import dump\n",
        "import pandas as pd\n",
        "\n",
        "# Cargar el modelo desde el archivo pkl\n",
        "model_file = 'modelo_entrenado.pkl'\n",
        "model = dump.load(model_file)[1]\n",
        "\n",
        "# Importar datos necesarios\n",
        "df_movie = pd.read_csv(\"../datos/csvs/peliculas/peliculas_final.csv\", sep=',', usecols=['id', 'title'])\n",
        "df_scores = pd.read_csv(\"../datos/csvs/ratings/ratings_final.csv\", sep=',', usecols=['userId', 'score', 'movieId'])\n",
        "df_movie = df_movie.reset_index(drop=True)\n",
        "\n",
        "def obtener_recomendaciones(user_id):\n",
        "    # Obtener las películas y series ya vistas por el usuario\n",
        "    movies_watched_by_user = df_scores[df_scores['userId'] == user_id]['movieId'].tolist()\n",
        "    \n",
        "    # Obtener las películas no vistas por el usuario\n",
        "    unseen_movies_by_user = df_scores[~df_scores['movieId'].isin(movies_watched_by_user)]['movieId'].tolist()\n",
        "    \n",
        "    # Crear el conjunto de datos de prueba con las películas no vistas\n",
        "    testset = [[user_id, movie_id, 4] for movie_id in unseen_movies_by_user]\n",
        "    \n",
        "    # Obtener las predicciones del modelo para las películas no vistas\n",
        "    predictions = model.test(testset)\n",
        "    \n",
        "    # Obtener las películas recomendadas\n",
        "    recommended_movies = [(pred.iid, pred.est) for pred in predictions]\n",
        "    recommended_movies.sort(key=lambda x: x[1], reverse=True)\n",
        "    recommended_movie_ids = [movie[0] for movie in recommended_movies]\n",
        "    \n",
        "    # Obtener los títulos de las películas recomendadas\n",
        "    recommended_movies_titles = df_movie[df_movie['id'].isin(recommended_movie_ids)]['title'].tolist()\n",
        "    \n",
        "    # Obtener las primeras 5 películas recomendadas que el usuario no haya visto previamente\n",
        "    recommended_movies_final = []\n",
        "    for title in recommended_movies_titles:\n",
        "        if len(recommended_movies_final) >= 5:\n",
        "            break\n",
        "        if title not in recommended_movies_final:\n",
        "            recommended_movies_final.append(title)\n",
        "    \n",
        "    return recommended_movies_final\n",
        "\n",
        "# Función para la interfaz de Gradio\n",
        "def recommend_movies(user_id):\n",
        "    recommended_movies = obtener_recomendaciones(user_id)\n",
        "    return \"\\n\".join(recommended_movies)\n",
        "\n",
        "iface = gr.Interface(fn=recommend_movies, inputs=\"text\", outputs=\"text\", title=\"Recomendador de Películas\")\n",
        "iface.launch()\n"
      ]
    }
  ],
  "metadata": {
    "colab": {
      "provenance": []
    },
    "kernelspec": {
      "display_name": "Python 3",
      "name": "python3"
    },
    "language_info": {
      "codemirror_mode": {
        "name": "ipython",
        "version": 3
      },
      "file_extension": ".py",
      "mimetype": "text/x-python",
      "name": "python",
      "nbconvert_exporter": "python",
      "pygments_lexer": "ipython3",
      "version": "3.11.2"
    }
  },
  "nbformat": 4,
  "nbformat_minor": 0
}
